{
 "cells": [
  {
   "cell_type": "code",
   "execution_count": 54,
   "metadata": {
    "collapsed": true
   },
   "outputs": [],
   "source": [
    "load(\"clean_data_nov172018.RData\")\n",
    "df.base <- df.clean\n",
    "\n"
   ]
  },
  {
   "cell_type": "code",
   "execution_count": 55,
   "metadata": {},
   "outputs": [],
   "source": [
    "# Get y \n",
    "regress.df <- df.clean\n",
    "cost <- df.clean$cost\n",
    "# Add ship_year and ship_month\n",
    "df.base$ship_year <- as.numeric(format(as.Date(df.clean$ship_time), '%Y'))\n",
    "df.base$ship_month <- as.numeric(format(as.Date(df.clean$ship_time), '%m'))\n",
    "\n",
    "# Add long-term fixed effect\n",
    "regress.df$trend <- (df.base$ship_year - 2016)*52 + df.base$ship_month\n",
    "\n",
    "# Add month effect, vsl_company, total_weight\n",
    "regress.df$ship_month <- as.factor(df.base$ship_month)\n",
    "regress.df$port <- df.base$port\n",
    "regress.df$total_weight <- df.base$total_weight\n",
    "regress.df$vsl_type <- df.base$vsl_type\n",
    "\n"
   ]
  },
  {
   "cell_type": "code",
   "execution_count": 56,
   "metadata": {
    "collapsed": true
   },
   "outputs": [],
   "source": [
    "regress.df <- subset(regress.df,select=-dta_collection_time)"
   ]
  },
  {
   "cell_type": "code",
   "execution_count": 57,
   "metadata": {},
   "outputs": [],
   "source": [
    "regress.df <- subset(regress.df,select=-contract_time)"
   ]
  },
  {
   "cell_type": "code",
   "execution_count": 58,
   "metadata": {
    "collapsed": true
   },
   "outputs": [],
   "source": [
    "regress.df <- subset(regress.df,select=-bid_time)"
   ]
  },
  {
   "cell_type": "code",
   "execution_count": 59,
   "metadata": {
    "collapsed": true
   },
   "outputs": [],
   "source": [
    "regress.df <- subset(regress.df,select=-vsl_company)"
   ]
  },
  {
   "cell_type": "code",
   "execution_count": 60,
   "metadata": {
    "collapsed": true
   },
   "outputs": [],
   "source": [
    "regress.df <- subset(regress.df,select=-vsl_name)"
   ]
  },
  {
   "cell_type": "code",
   "execution_count": 61,
   "metadata": {
    "collapsed": true
   },
   "outputs": [],
   "source": [
    "regress.df <- subset(regress.df,select=-port_type_value)\n",
    "regress.df <- subset(regress.df,select=-port_price_diff)\n",
    "regress.df <- subset(regress.df,select=-income)\n",
    "regress.df <- subset(regress.df,select=-bang_dian_cost)\n",
    "regress.df <- subset(regress.df,select=-chao_qi_cost)\n",
    "regress.df <- subset(regress.df,select=-kua_gang_cost)\n",
    "\n"
   ]
  },
  {
   "cell_type": "code",
   "execution_count": 64,
   "metadata": {},
   "outputs": [],
   "source": [
    "cost <- regress.df$cost[1:409]"
   ]
  },
  {
   "cell_type": "code",
   "execution_count": 65,
   "metadata": {},
   "outputs": [
    {
     "name": "stderr",
     "output_type": "stream",
     "text": [
      "Warning message in predict.lm(model1, regress.test):\n",
      "\"prediction from a rank-deficient fit may be misleading\""
     ]
    }
   ],
   "source": [
    "# Divide by training and testing\n",
    "regress.train <- regress.df[1:409,]\n",
    "regress.test <- regress.df[410:531,]\n",
    "\n",
    "\n",
    "model1 <- lm(cost ~., data = regress.train)\n",
    "\n",
    "# Summaize the result\n",
    "tmp <- c(mean(abs(model1$residuals)), mean(abs(model1$residuals)/regress.train$cost),summary(model1)$r.squared)\n",
    "\n",
    "# Prediction\n",
    "regress.test$port[regress.test$port == 'JiaoJiang'] = 'JiaoJiangSSZD'\n",
    "result_test_raw <- data.frame(true = regress.test$cost, pred = predict(model1, regress.test))\n",
    "result_test_raw$error <- result_test_raw$true - result_test_raw$pred\n",
    "tmp2 <- c(mean(abs(result_test_raw$error)), mean(abs(result_test_raw$error)/result_test_raw$true), NA)\n",
    "summary_result_model1 <- data.frame(train = tmp, test = tmp2)\n",
    "rownames(summary_result_model1) <- c(\"APE\", \"MAPE\", \"R-Squared\")\n",
    "\n"
   ]
  },
  {
   "cell_type": "code",
   "execution_count": 66,
   "metadata": {},
   "outputs": [
    {
     "name": "stderr",
     "output_type": "stream",
     "text": [
      "Warning message in predict.lm(model1, regress.test):\n",
      "\"prediction from a rank-deficient fit may be misleading\""
     ]
    }
   ],
   "source": [
    "result_test_raw <- data.frame(true = regress.test$cost, pred = predict(model1, regress.test))\n"
   ]
  },
  {
   "cell_type": "code",
   "execution_count": 78,
   "metadata": {},
   "outputs": [
    {
     "name": "stderr",
     "output_type": "stream",
     "text": [
      "Warning message in predict.lm(model1, regress.tmp):\n",
      "\"prediction from a rank-deficient fit may be misleading\""
     ]
    }
   ],
   "source": [
    "# Plot the prediction and true values\n",
    "library('data.table')\n",
    "library('ggplot2')\n",
    "regress.tmp <- regress.df\n",
    "regress.tmp$port[regress.tmp$port == 'JiaoJiang'] = 'JiaoJiangSSZD'\n",
    "result_tmp <- data.frame(true = regress.tmp$cost, pred = predict(model1, regress.tmp), ship_time = df.base$ship_time)\n",
    "plot.df <- melt(result_tmp, id.vars = \"ship_time\")\n",
    "\n",
    "\n",
    "\n",
    "## Sanity check\n",
    "#tmp <- regress.df %>% select(-1)\n",
    "#tmp2 <- unique(tmp)\n",
    "## Passed! No repetition of rows"
   ]
  },
  {
   "cell_type": "code",
   "execution_count": 79,
   "metadata": {},
   "outputs": [
    {
     "ename": "ERROR",
     "evalue": "Error in ggplot2(plot.df, aes(x = ship_time, y = value, group = variable, : 没有\"ggplot2\"这个函数\n",
     "output_type": "error",
     "traceback": [
      "Error in ggplot2(plot.df, aes(x = ship_time, y = value, group = variable, : 没有\"ggplot2\"这个函数\nTraceback:\n"
     ]
    }
   ],
   "source": [
    "p <- ggplot2(plot.df, aes(x = ship_time, y = value, group = variable, color = variable)) + geom_line() + geom_point() + \n",
    "     geom_vline(xintercept = df.base$bid_time[410])\n",
    "p"
   ]
  },
  {
   "cell_type": "code",
   "execution_count": null,
   "metadata": {
    "collapsed": true
   },
   "outputs": [],
   "source": []
  }
 ],
 "metadata": {
  "kernelspec": {
   "display_name": "R",
   "language": "R",
   "name": "ir"
  },
  "language_info": {
   "codemirror_mode": "r",
   "file_extension": ".r",
   "mimetype": "text/x-r-source",
   "name": "R",
   "pygments_lexer": "r",
   "version": "3.4.3"
  }
 },
 "nbformat": 4,
 "nbformat_minor": 2
}
