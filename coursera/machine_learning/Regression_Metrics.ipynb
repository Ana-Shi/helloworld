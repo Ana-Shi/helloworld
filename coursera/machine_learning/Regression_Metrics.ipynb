{
 "cells": [
  {
   "cell_type": "code",
   "execution_count": 1,
   "metadata": {},
   "outputs": [],
   "source": [
    "import numpy as np\n",
    "from math import sqrt"
   ]
  },
  {
   "cell_type": "code",
   "execution_count": 2,
   "metadata": {},
   "outputs": [],
   "source": [
    "def accuracy_score(y_true,y_predict):\n",
    "    assert len(y_true) == len(y_predict),\\\n",
    "        \"the size of y_true must equals to the size of y_predict\"\n",
    "    return np.sum(y_true==y_predict)/len(y_true)"
   ]
  },
  {
   "cell_type": "code",
   "execution_count": 3,
   "metadata": {},
   "outputs": [],
   "source": [
    "def mean_squares_error(y_true,y_predict):\n",
    "    assert len(y_true) == len(y_predict),\\\n",
    "        \"the size of y_true must equals to the size of y_predict\"\n",
    "    return (y_true-y_predict).dot(y_true-y_predict)/len(y_true)"
   ]
  },
  {
   "cell_type": "code",
   "execution_count": 4,
   "metadata": {},
   "outputs": [],
   "source": [
    "def root_mean_squared_error(y_true,y_predict):\n",
    "    assert len(y_true) == len(y_predict),\\\n",
    "        \"the size of y_true must equals to the size of y_predict\"\n",
    "    return sqrt(mean_squares_error(y_true,y_predict))"
   ]
  },
  {
   "cell_type": "code",
   "execution_count": 5,
   "metadata": {},
   "outputs": [],
   "source": [
    "def mean_abosulte_error(y_true,y_predict):\n",
    "    return np.sum(np.absolute(y_true-y_predict))/len(y_true)"
   ]
  },
  {
   "cell_type": "code",
   "execution_count": 6,
   "metadata": {},
   "outputs": [],
   "source": [
    "def R_square(y_true,y_predict):\n",
    "    assert len(y_true) == len(y_predict),\\\n",
    "        \"the size of y_true must equals to the size of y_predict\"\n",
    "    return 1- mean_abosulte_error(y_true,y_predict)/np.var(y_true)"
   ]
  },
  {
   "cell_type": "code",
   "execution_count": null,
   "metadata": {},
   "outputs": [],
   "source": []
  }
 ],
 "metadata": {
  "kernelspec": {
   "display_name": "Python 3",
   "language": "python",
   "name": "python3"
  },
  "language_info": {
   "codemirror_mode": {
    "name": "ipython",
    "version": 3
   },
   "file_extension": ".py",
   "mimetype": "text/x-python",
   "name": "python",
   "nbconvert_exporter": "python",
   "pygments_lexer": "ipython3",
   "version": "3.6.4"
  }
 },
 "nbformat": 4,
 "nbformat_minor": 2
}
