{
 "cells": [
  {
   "cell_type": "markdown",
   "metadata": {},
   "source": [
    "# 实现Simple Linear Regression"
   ]
  },
  {
   "cell_type": "code",
   "execution_count": 30,
   "metadata": {
    "collapsed": true
   },
   "outputs": [],
   "source": [
    "import numpy as np\n",
    "import pandas as pd\n",
    "import matplotlib.pyplot as plt"
   ]
  },
  {
   "cell_type": "code",
   "execution_count": 31,
   "metadata": {
    "collapsed": true
   },
   "outputs": [],
   "source": [
    "x = np.array([1,2,3,4,5])\n",
    "y = np.array([1,3,2,4,5])"
   ]
  },
  {
   "cell_type": "code",
   "execution_count": 32,
   "metadata": {},
   "outputs": [
    {
     "data": {
      "text/plain": [
       "<matplotlib.collections.PathCollection at 0x1f052780278>"
      ]
     },
     "execution_count": 32,
     "metadata": {},
     "output_type": "execute_result"
    },
    {
     "data": {
      "image/png": "[encoded data removed]",
      "text/plain": [
       "<matplotlib.figure.Figure at 0x1f0526f3080>"
      ]
     },
     "metadata": {},
     "output_type": "display_data"
    }
   ],
   "source": [
    "plt.scatter(x,y)"
   ]
  },
  {
   "cell_type": "markdown",
   "metadata": {},
   "source": []
  },
  {
   "cell_type": "markdown",
   "metadata": {},
   "source": [
    "![SIMPLE_rEGRESSION]()"
   ]
  },
  {
   "cell_type": "code",
   "execution_count": 33,
   "metadata": {},
   "outputs": [
    {
     "data": {
      "text/html": [
       "<img style = 'float: right' src='./simple_regression.png',width='40%',height=200>"
      ],
      "text/plain": [
       "<IPython.core.display.HTML object>"
      ]
     },
     "metadata": {},
     "output_type": "display_data"
    }
   ],
   "source": [
    "%%html\n",
    "<img style = 'float: right' src='./simple_regression.png',width='40%',height=200>"
   ]
  },
  {
   "cell_type": "code",
   "execution_count": 34,
   "metadata": {
    "collapsed": true
   },
   "outputs": [],
   "source": [
    "x_mean = np.mean(x)\n",
    "y_mean = np.mean(y)\n"
   ]
  },
  {
   "cell_type": "code",
   "execution_count": 35,
   "metadata": {},
   "outputs": [
    {
     "data": {
      "text/plain": [
       "3.0"
      ]
     },
     "execution_count": 35,
     "metadata": {},
     "output_type": "execute_result"
    }
   ],
   "source": [
    "x_mean"
   ]
  },
  {
   "cell_type": "code",
   "execution_count": 36,
   "metadata": {
    "collapsed": true
   },
   "outputs": [],
   "source": [
    "num = 0.0\n",
    "d=0.0\n",
    "for x_i,y_i in zip(x,y):\n",
    "    num += (x_i-x_mean)*(y_i-y_mean)\n",
    "    d += (x_i-x_mean)**2"
   ]
  },
  {
   "cell_type": "code",
   "execution_count": 37,
   "metadata": {},
   "outputs": [
    {
     "data": {
      "text/plain": [
       "10.0"
      ]
     },
     "execution_count": 37,
     "metadata": {},
     "output_type": "execute_result"
    }
   ],
   "source": [
    "d"
   ]
  },
  {
   "cell_type": "code",
   "execution_count": 38,
   "metadata": {
    "collapsed": true
   },
   "outputs": [],
   "source": [
    "a = num/d\n",
    "b = y_mean - a*x_mean"
   ]
  },
  {
   "cell_type": "code",
   "execution_count": 39,
   "metadata": {},
   "outputs": [
    {
     "data": {
      "text/plain": [
       "0.9"
      ]
     },
     "execution_count": 39,
     "metadata": {},
     "output_type": "execute_result"
    }
   ],
   "source": [
    "a"
   ]
  },
  {
   "cell_type": "code",
   "execution_count": 40,
   "metadata": {
    "collapsed": true
   },
   "outputs": [],
   "source": [
    "Y_predict = a*x +b"
   ]
  },
  {
   "cell_type": "code",
   "execution_count": 41,
   "metadata": {},
   "outputs": [
    {
     "data": {
      "image/png": "[encoded data removed]",
      "text/plain": [
       "<matplotlib.figure.Figure at 0x1f05076bac8>"
      ]
     },
     "metadata": {},
     "output_type": "display_data"
    }
   ],
   "source": [
    "plt.scatter(x,y)\n",
    "plt.plot(x,Y_predict,color='r')\n",
    "plt.show()"
   ]
  },
  {
   "cell_type": "code",
   "execution_count": 42,
   "metadata": {
    "collapsed": true
   },
   "outputs": [],
   "source": [
    "from playML import SimpleLinearRegression1"
   ]
  },
  {
   "cell_type": "code",
   "execution_count": null,
   "metadata": {
    "collapsed": true
   },
   "outputs": [],
   "source": []
  },
  {
   "cell_type": "code",
   "execution_count": 43,
   "metadata": {},
   "outputs": [
    {
     "ename": "NameError",
     "evalue": "name 'a' is not defined",
     "output_type": "error",
     "traceback": [
      "\u001b[1;31m---------------------------------------------------------------------------\u001b[0m",
      "\u001b[1;31mNameError\u001b[0m                                 Traceback (most recent call last)",
      "\u001b[1;32m<ipython-input-43-1a0247bdf37a>\u001b[0m in \u001b[0;36m<module>\u001b[1;34m()\u001b[0m\n\u001b[0;32m      1\u001b[0m \u001b[0mx_predict\u001b[0m \u001b[1;33m=\u001b[0m \u001b[1;36m6\u001b[0m\u001b[1;33m\u001b[0m\u001b[0m\n\u001b[0;32m      2\u001b[0m \u001b[0mreg1\u001b[0m \u001b[1;33m=\u001b[0m \u001b[0mSimpleLinearRegression1\u001b[0m\u001b[1;33m(\u001b[0m\u001b[1;33m)\u001b[0m\u001b[1;33m\u001b[0m\u001b[0m\n\u001b[1;32m----> 3\u001b[1;33m \u001b[0mreg1\u001b[0m\u001b[1;33m.\u001b[0m\u001b[0mfit\u001b[0m\u001b[1;33m(\u001b[0m\u001b[0mx\u001b[0m\u001b[1;33m,\u001b[0m\u001b[0my\u001b[0m\u001b[1;33m)\u001b[0m\u001b[1;33m\u001b[0m\u001b[0m\n\u001b[0m\u001b[0;32m      4\u001b[0m \u001b[0mreg1\u001b[0m\u001b[1;33m.\u001b[0m\u001b[0mpredict\u001b[0m\u001b[1;33m(\u001b[0m\u001b[0mnp\u001b[0m\u001b[1;33m.\u001b[0m\u001b[0marray\u001b[0m\u001b[1;33m(\u001b[0m\u001b[1;33m[\u001b[0m\u001b[0mx_predict\u001b[0m\u001b[1;33m]\u001b[0m\u001b[1;33m)\u001b[0m\u001b[1;33m)\u001b[0m\u001b[1;33m\u001b[0m\u001b[0m\n",
      "\u001b[1;32mD:\\Shi_Code_Forest\\CignifiRobi\\Hutch\\my_project\\route\\playML.py\u001b[0m in \u001b[0;36mfit\u001b[1;34m(self, x_train, y_train)\u001b[0m\n\u001b[0;32m     25\u001b[0m             \u001b[0md\u001b[0m \u001b[1;33m+=\u001b[0m \u001b[1;33m(\u001b[0m\u001b[0mx_i\u001b[0m\u001b[1;33m-\u001b[0m\u001b[0mx_mean\u001b[0m\u001b[1;33m)\u001b[0m\u001b[1;33m**\u001b[0m\u001b[1;36m2\u001b[0m\u001b[1;33m\u001b[0m\u001b[0m\n\u001b[0;32m     26\u001b[0m         \u001b[0mself\u001b[0m\u001b[1;33m.\u001b[0m\u001b[0ma_\u001b[0m \u001b[1;33m=\u001b[0m \u001b[0mnum\u001b[0m\u001b[1;33m/\u001b[0m\u001b[0md\u001b[0m\u001b[1;33m\u001b[0m\u001b[0m\n\u001b[1;32m---> 27\u001b[1;33m         \u001b[0mself\u001b[0m\u001b[1;33m.\u001b[0m\u001b[0mb_\u001b[0m \u001b[1;33m=\u001b[0m \u001b[0my_mean\u001b[0m \u001b[1;33m-\u001b[0m \u001b[0mself\u001b[0m\u001b[1;33m.\u001b[0m\u001b[0ma_\u001b[0m\u001b[1;33m*\u001b[0m\u001b[0mx_mean\u001b[0m\u001b[1;33m\u001b[0m\u001b[0m\n\u001b[0m\u001b[0;32m     28\u001b[0m         \u001b[1;32mreturn\u001b[0m \u001b[0mself\u001b[0m\u001b[1;33m\u001b[0m\u001b[0m\n\u001b[0;32m     29\u001b[0m     \u001b[1;32mdef\u001b[0m \u001b[0mpredict\u001b[0m\u001b[1;33m(\u001b[0m\u001b[0mself\u001b[0m\u001b[1;33m,\u001b[0m\u001b[0mx_predict\u001b[0m\u001b[1;33m)\u001b[0m\u001b[1;33m:\u001b[0m\u001b[1;33m\u001b[0m\u001b[0m\n",
      "\u001b[1;31mNameError\u001b[0m: name 'a' is not defined"
     ]
    }
   ],
   "source": [
    "x_predict = 6\n",
    "reg1 = SimpleLinearRegression1()\n",
    "reg1.fit(x,y)\n",
    "reg1.predict(np.array([x_predict]))"
   ]
  },
  {
   "cell_type": "markdown",
   "metadata": {},
   "source": [
    "## 向量化"
   ]
  },
  {
   "cell_type": "markdown",
   "metadata": {},
   "source": [
    "### 回归算法的评价"
   ]
  },
  {
   "cell_type": "markdown",
   "metadata": {},
   "source": [
    "找到a,b是目标函数在训练集上尽可能小"
   ]
  },
  {
   "cell_type": "markdown",
   "metadata": {},
   "source": [
    "衡量标准MSE: 1/M * sum((y_test - y_predict)^2)"
   ]
  },
  {
   "cell_type": "markdown",
   "metadata": {},
   "source": [
    "RMSE: sqrt(1/M * sum((y_test - y_predict)^2))  = sqrt(MSE)"
   ]
  },
  {
   "cell_type": "markdown",
   "metadata": {},
   "source": [
    "平均绝对误差MAE : 1/M * sum(abs(y_test-y_predict))"
   ]
  },
  {
   "cell_type": "code",
   "execution_count": 44,
   "metadata": {
    "collapsed": true
   },
   "outputs": [],
   "source": [
    "from sklearn import datasets"
   ]
  },
  {
   "cell_type": "code",
   "execution_count": 45,
   "metadata": {},
   "outputs": [
    {
     "name": "stdout",
     "output_type": "stream",
     "text": [
      "Boston House Prices dataset\n",
      "===========================\n",
      "\n",
      "Notes\n",
      "------\n",
      "Data Set Characteristics:  \n",
      "\n",
      "    :Number of Instances: 506 \n",
      "\n",
      "    :Number of Attributes: 13 numeric/categorical predictive\n",
      "    \n",
      "    :Median Value (attribute 14) is usually the target\n",
      "\n",
      "    :Attribute Information (in order):\n",
      "        - CRIM     per capita crime rate by town\n",
      "        - ZN       proportion of residential land zoned for lots over 25,000 sq.ft.\n",
      "        - INDUS    proportion of non-retail business acres per town\n",
      "        - CHAS     Charles River dummy variable (= 1 if tract bounds river; 0 otherwise)\n",
      "        - NOX      nitric oxides concentration (parts per 10 million)\n",
      "        - RM       average number of rooms per dwelling\n",
      "        - AGE      proportion of owner-occupied units built prior to 1940\n",
      "        - DIS      weighted distances to five Boston employment centres\n",
      "        - RAD      index of accessibility to radial highways\n",
      "        - TAX      full-value property-tax rate per $10,000\n",
      "        - PTRATIO  pupil-teacher ratio by town\n",
      "        - B        1000(Bk - 0.63)^2 where Bk is the proportion of blacks by town\n",
      "        - LSTAT    % lower status of the population\n",
      "        - MEDV     Median value of owner-occupied homes in $1000's\n",
      "\n",
      "    :Missing Attribute Values: None\n",
      "\n",
      "    :Creator: Harrison, D. and Rubinfeld, D.L.\n",
      "\n",
      "This is a copy of UCI ML housing dataset.\n",
      "http://archive.ics.uci.edu/ml/datasets/Housing\n",
      "\n",
      "\n",
      "This dataset was taken from the StatLib library which is maintained at Carnegie Mellon University.\n",
      "\n",
      "The Boston house-price data of Harrison, D. and Rubinfeld, D.L. 'Hedonic\n",
      "prices and the demand for clean air', J. Environ. Economics & Management,\n",
      "vol.5, 81-102, 1978.   Used in Belsley, Kuh & Welsch, 'Regression diagnostics\n",
      "...', Wiley, 1980.   N.B. Various transformations are used in the table on\n",
      "pages 244-261 of the latter.\n",
      "\n",
      "The Boston house-price data has been used in many machine learning papers that address regression\n",
      "problems.   \n",
      "     \n",
      "**References**\n",
      "\n",
      "   - Belsley, Kuh & Welsch, 'Regression diagnostics: Identifying Influential Data and Sources of Collinearity', Wiley, 1980. 244-261.\n",
      "   - Quinlan,R. (1993). Combining Instance-Based and Model-Based Learning. In Proceedings on the Tenth International Conference of Machine Learning, 236-243, University of Massachusetts, Amherst. Morgan Kaufmann.\n",
      "   - many more! (see http://archive.ics.uci.edu/ml/datasets/Housing)\n",
      "\n"
     ]
    }
   ],
   "source": [
    "boston = datasets.load_boston()\n",
    "print(boston.DESCR)"
   ]
  },
  {
   "cell_type": "code",
   "execution_count": 46,
   "metadata": {},
   "outputs": [
    {
     "data": {
      "text/plain": [
       "array(['CRIM', 'ZN', 'INDUS', 'CHAS', 'NOX', 'RM', 'AGE', 'DIS', 'RAD',\n",
       "       'TAX', 'PTRATIO', 'B', 'LSTAT'], dtype='<U7')"
      ]
     },
     "execution_count": 46,
     "metadata": {},
     "output_type": "execute_result"
    }
   ],
   "source": [
    "boston.feature_names"
   ]
  },
  {
   "cell_type": "code",
   "execution_count": 47,
   "metadata": {},
   "outputs": [
    {
     "data": {
      "text/plain": [
       "(506, 2)"
      ]
     },
     "execution_count": 47,
     "metadata": {},
     "output_type": "execute_result"
    }
   ],
   "source": [
    "x = boston.data[:,4:6]\n",
    "x.shape"
   ]
  },
  {
   "cell_type": "code",
   "execution_count": 48,
   "metadata": {},
   "outputs": [
    {
     "data": {
      "text/plain": [
       "(506,)"
      ]
     },
     "execution_count": 48,
     "metadata": {},
     "output_type": "execute_result"
    }
   ],
   "source": [
    "y = boston.target\n",
    "y.shape"
   ]
  },
  {
   "cell_type": "code",
   "execution_count": 49,
   "metadata": {},
   "outputs": [
    {
     "data": {
      "text/plain": [
       "<matplotlib.collections.PathCollection at 0x1f0506fedd8>"
      ]
     },
     "execution_count": 49,
     "metadata": {},
     "output_type": "execute_result"
    },
    {
     "data": {
      "image/png": "[encoded data removed]",
      "text/plain": [
       "<matplotlib.figure.Figure at 0x1f052632c18>"
      ]
     },
     "metadata": {},
     "output_type": "display_data"
    }
   ],
   "source": [
    "plt.scatter(x[:,1],y)"
   ]
  },
  {
   "cell_type": "code",
   "execution_count": 50,
   "metadata": {
    "collapsed": true
   },
   "outputs": [],
   "source": [
    "a = x[y<50,0]\n",
    "b = x[y<50,1]\n",
    "y = y[y<50]"
   ]
  },
  {
   "cell_type": "code",
   "execution_count": 51,
   "metadata": {},
   "outputs": [
    {
     "data": {
      "text/plain": [
       "(490, 2)"
      ]
     },
     "execution_count": 51,
     "metadata": {},
     "output_type": "execute_result"
    }
   ],
   "source": [
    "x1 = np.array([a,b]).T\n",
    "x1.shape"
   ]
  },
  {
   "cell_type": "code",
   "execution_count": 52,
   "metadata": {},
   "outputs": [
    {
     "data": {
      "text/plain": [
       "<matplotlib.collections.PathCollection at 0x1f05063e588>"
      ]
     },
     "execution_count": 52,
     "metadata": {},
     "output_type": "execute_result"
    },
    {
     "data": {
      "image/png": "[encoded data removed]",
      "text/plain": [
       "<matplotlib.figure.Figure at 0x1f0507477f0>"
      ]
     },
     "metadata": {},
     "output_type": "display_data"
    }
   ],
   "source": [
    "plt.scatter(x1[:,1],y)"
   ]
  },
  {
   "cell_type": "code",
   "execution_count": 53,
   "metadata": {
    "collapsed": true
   },
   "outputs": [],
   "source": [
    "from sklearn.model_selection import train_test_split\n",
    "\n",
    "x_train,x_test,y_train,y_test = train_test_split(x1,y)"
   ]
  },
  {
   "cell_type": "code",
   "execution_count": 54,
   "metadata": {},
   "outputs": [
    {
     "data": {
      "text/plain": [
       "array([[0.871 , 5.468 ],\n",
       "       [0.431 , 6.433 ],\n",
       "       [0.605 , 6.25  ],\n",
       "       [0.448 , 6.069 ],\n",
       "       [0.871 , 4.926 ],\n",
       "       [0.426 , 6.619 ],\n",
       "       [0.693 , 6.343 ],\n",
       "       [0.429 , 6.939 ],\n",
       "       [0.538 , 5.924 ],\n",
       "       [0.489 , 6.182 ],\n",
       "       [0.74  , 6.485 ],\n",
       "       [0.435 , 6.635 ],\n",
       "       [0.583 , 6.114 ],\n",
       "       [0.439 , 5.963 ],\n",
       "       [0.403 , 7.249 ],\n",
       "       [0.605 , 6.101 ],\n",
       "       [0.693 , 5.887 ],\n",
       "       [0.573 , 6.976 ],\n",
       "       [0.51  , 6.02  ],\n",
       "       [0.7   , 5.036 ],\n",
       "       [0.504 , 8.266 ],\n",
       "       [0.488 , 6.563 ],\n",
       "       [0.52  , 6.727 ],\n",
       "       [0.547 , 5.872 ],\n",
       "       [0.655 , 5.952 ],\n",
       "       [0.488 , 5.604 ],\n",
       "       [0.493 , 6.376 ],\n",
       "       [0.472 , 6.616 ],\n",
       "       [0.713 , 6.701 ],\n",
       "       [0.415 , 7.61  ],\n",
       "       [0.584 , 5.427 ],\n",
       "       [0.439 , 5.998 ],\n",
       "       [0.413 , 6.065 ],\n",
       "       [0.538 , 6.096 ],\n",
       "       [0.624 , 5.857 ],\n",
       "       [0.447 , 6.826 ],\n",
       "       [0.507 , 6.618 ],\n",
       "       [0.609 , 5.983 ],\n",
       "       [0.583 , 5.905 ],\n",
       "       [0.428 , 6.595 ],\n",
       "       [0.489 , 5.807 ],\n",
       "       [0.58  , 6.437 ],\n",
       "       [0.499 , 5.966 ],\n",
       "       [0.871 , 5.272 ],\n",
       "       [0.404 , 7.274 ],\n",
       "       [0.624 , 6.174 ],\n",
       "       [0.488 , 7.155 ],\n",
       "       [0.429 , 6.516 ],\n",
       "       [0.488 , 7.765 ],\n",
       "       [0.4161, 7.104 ],\n",
       "       [0.445 , 8.069 ],\n",
       "       [0.472 , 7.236 ],\n",
       "       [0.668 , 4.138 ],\n",
       "       [0.7   , 4.88  ],\n",
       "       [0.605 , 5.854 ],\n",
       "       [0.428 , 6.481 ],\n",
       "       [0.448 , 5.399 ],\n",
       "       [0.713 , 7.393 ],\n",
       "       [0.718 , 6.006 ],\n",
       "       [0.547 , 5.928 ],\n",
       "       [0.624 , 5.693 ],\n",
       "       [0.7   , 4.652 ],\n",
       "       [0.515 , 5.985 ],\n",
       "       [0.489 , 5.891 ],\n",
       "       [0.655 , 5.759 ],\n",
       "       [0.55  , 6.642 ],\n",
       "       [0.433 , 6.495 ],\n",
       "       [0.573 , 6.03  ],\n",
       "       [0.458 , 7.147 ],\n",
       "       [0.504 , 8.04  ],\n",
       "       [0.437 , 6.279 ],\n",
       "       [0.718 , 8.78  ],\n",
       "       [0.4   , 6.345 ],\n",
       "       [0.515 , 6.31  ],\n",
       "       [0.624 , 5.942 ],\n",
       "       [0.718 , 6.824 ],\n",
       "       [0.547 , 6.254 ],\n",
       "       [0.499 , 5.841 ],\n",
       "       [0.647 , 7.333 ],\n",
       "       [0.507 , 8.247 ],\n",
       "       [0.647 , 6.842 ],\n",
       "       [0.437 , 6.782 ],\n",
       "       [0.426 , 6.727 ],\n",
       "       [0.504 , 7.686 ],\n",
       "       [0.679 , 5.304 ],\n",
       "       [0.449 , 6.121 ],\n",
       "       [0.507 , 8.337 ],\n",
       "       [0.413 , 5.961 ],\n",
       "       [0.507 , 6.879 ],\n",
       "       [0.538 , 6.096 ],\n",
       "       [0.489 , 7.079 ],\n",
       "       [0.445 , 7.416 ],\n",
       "       [0.431 , 6.718 ],\n",
       "       [0.515 , 6.316 ],\n",
       "       [0.404 , 7.107 ],\n",
       "       [0.713 , 6.208 ],\n",
       "       [0.448 , 5.682 ],\n",
       "       [0.605 , 5.875 ],\n",
       "       [0.583 , 5.871 ],\n",
       "       [0.453 , 6.762 ],\n",
       "       [0.547 , 6.176 ],\n",
       "       [0.693 , 6.405 ],\n",
       "       [0.74  , 6.461 ],\n",
       "       [0.544 , 5.914 ],\n",
       "       [0.411 , 6.861 ],\n",
       "       [0.489 , 6.375 ],\n",
       "       [0.448 , 6.169 ],\n",
       "       [0.392 , 5.876 ],\n",
       "       [0.614 , 5.648 ],\n",
       "       [0.573 , 6.794 ],\n",
       "       [0.448 , 6.211 ],\n",
       "       [0.51  , 5.572 ],\n",
       "       [0.77  , 6.251 ],\n",
       "       [0.405 , 6.315 ],\n",
       "       [0.437 , 7.178 ],\n",
       "       [0.671 , 6.649 ],\n",
       "       [0.458 , 6.998 ],\n",
       "       [0.614 , 6.185 ],\n",
       "       [0.413 , 6.417 ],\n",
       "       [0.532 , 7.061 ],\n",
       "       [0.7   , 5.39  ],\n",
       "       [0.77  , 6.398 ],\n",
       "       [0.605 , 6.402 ],\n",
       "       [0.41  , 6.728 ],\n",
       "       [0.515 , 5.968 ],\n",
       "       [0.538 , 5.965 ],\n",
       "       [0.647 , 7.206 ],\n",
       "       [0.58  , 5.713 ],\n",
       "       [0.538 , 5.727 ],\n",
       "       [0.4379, 5.706 ],\n",
       "       [0.493 , 6.083 ],\n",
       "       [0.538 , 5.57  ],\n",
       "       [0.693 , 6.193 ],\n",
       "       [0.411 , 6.816 ],\n",
       "       [0.871 , 6.13  ],\n",
       "       [0.515 , 5.869 ],\n",
       "       [0.433 , 6.59  ],\n",
       "       [0.532 , 6.229 ],\n",
       "       [0.581 , 5.986 ],\n",
       "       [0.713 , 6.185 ],\n",
       "       [0.398 , 6.29  ],\n",
       "       [0.437 , 6.232 ],\n",
       "       [0.431 , 6.438 ],\n",
       "       [0.547 , 6.715 ],\n",
       "       [0.679 , 6.782 ],\n",
       "       [0.713 , 6.297 ],\n",
       "       [0.51  , 6.416 ],\n",
       "       [0.624 , 5.019 ],\n",
       "       [0.411 , 6.63  ],\n",
       "       [0.385 , 6.23  ],\n",
       "       [0.585 , 5.926 ],\n",
       "       [0.584 , 6.425 ],\n",
       "       [0.597 , 6.657 ],\n",
       "       [0.624 , 6.431 ],\n",
       "       [0.499 , 5.85  ],\n",
       "       [0.398 , 5.787 ],\n",
       "       [0.445 , 6.625 ],\n",
       "       [0.74  , 5.627 ],\n",
       "       [0.447 , 6.482 ],\n",
       "       [0.55  , 6.373 ],\n",
       "       [0.52  , 5.851 ],\n",
       "       [0.507 , 6.951 ],\n",
       "       [0.507 , 6.631 ],\n",
       "       [0.573 , 6.593 ],\n",
       "       [0.584 , 6.162 ],\n",
       "       [0.585 , 6.019 ],\n",
       "       [0.544 , 5.972 ],\n",
       "       [0.693 , 5.852 ],\n",
       "       [0.871 , 6.152 ],\n",
       "       [0.871 , 6.129 ],\n",
       "       [0.515 , 6.037 ],\n",
       "       [0.4379, 6.031 ],\n",
       "       [0.671 , 6.223 ],\n",
       "       [0.453 , 5.927 ],\n",
       "       [0.464 , 5.856 ],\n",
       "       [0.488 , 6.144 ],\n",
       "       [0.671 , 7.313 ],\n",
       "       [0.647 , 8.398 ],\n",
       "       [0.469 , 7.185 ],\n",
       "       [0.58  , 5.926 ],\n",
       "       [0.51  , 6.86  ],\n",
       "       [0.581 , 5.961 ],\n",
       "       [0.489 , 5.344 ],\n",
       "       [0.679 , 6.202 ],\n",
       "       [0.693 , 5.987 ],\n",
       "       [0.713 , 6.417 ],\n",
       "       [0.437 , 5.79  ],\n",
       "       [0.411 , 6.579 ],\n",
       "       [0.472 , 7.42  ],\n",
       "       [0.41  , 6.383 ],\n",
       "       [0.448 , 6.03  ],\n",
       "       [0.464 , 7.691 ],\n",
       "       [0.538 , 5.456 ],\n",
       "       [0.489 , 6.064 ],\n",
       "       [0.493 , 6.041 ],\n",
       "       [0.679 , 6.38  ],\n",
       "       [0.58  , 6.167 ],\n",
       "       [0.547 , 6.021 ],\n",
       "       [0.624 , 5.822 ],\n",
       "       [0.52  , 6.167 ],\n",
       "       [0.437 , 6.951 ],\n",
       "       [0.584 , 6.348 ],\n",
       "       [0.871 , 5.628 ],\n",
       "       [0.448 , 5.602 ],\n",
       "       [0.488 , 6.98  ],\n",
       "       [0.489 , 5.783 ],\n",
       "       [0.488 , 6.153 ],\n",
       "       [0.46  , 6.144 ],\n",
       "       [0.74  , 6.459 ],\n",
       "       [0.538 , 6.575 ],\n",
       "       [0.597 , 6.852 ],\n",
       "       [0.428 , 6.095 ],\n",
       "       [0.493 , 6.426 ],\n",
       "       [0.605 , 5.88  ],\n",
       "       [0.507 , 6.726 ],\n",
       "       [0.624 , 6.335 ],\n",
       "       [0.428 , 6.358 ],\n",
       "       [0.581 , 5.87  ],\n",
       "       [0.404 , 7.287 ],\n",
       "       [0.439 , 6.115 ],\n",
       "       [0.413 , 6.245 ],\n",
       "       [0.489 , 5.404 ],\n",
       "       [0.484 , 6.874 ],\n",
       "       [0.609 , 5.414 ],\n",
       "       [0.439 , 6.511 ],\n",
       "       [0.499 , 5.933 ],\n",
       "       [0.7   , 5.52  ],\n",
       "       [0.74  , 6.219 ],\n",
       "       [0.7   , 5.713 ],\n",
       "       [0.585 , 6.027 ],\n",
       "       [0.515 , 6.059 ],\n",
       "       [0.605 , 5.877 ],\n",
       "       [0.538 , 5.949 ],\n",
       "       [0.52  , 6.137 ],\n",
       "       [0.46  , 5.868 ],\n",
       "       [0.51  , 5.859 ],\n",
       "       [0.585 , 5.794 ],\n",
       "       [0.504 , 6.552 ],\n",
       "       [0.504 , 7.163 ],\n",
       "       [0.55  , 5.951 ],\n",
       "       [0.524 , 6.172 ],\n",
       "       [0.538 , 6.142 ],\n",
       "       [0.871 , 5.403 ],\n",
       "       [0.871 , 5.012 ],\n",
       "       [0.671 , 6.794 ],\n",
       "       [0.431 , 6.226 ],\n",
       "       [0.605 , 6.943 ],\n",
       "       [0.489 , 7.007 ],\n",
       "       [0.448 , 6.77  ],\n",
       "       [0.489 , 6.417 ],\n",
       "       [0.428 , 6.393 ],\n",
       "       [0.449 , 6.015 ],\n",
       "       [0.431 , 6.108 ],\n",
       "       [0.547 , 6.092 ],\n",
       "       [0.713 , 6.655 ],\n",
       "       [0.453 , 5.741 ],\n",
       "       [0.4429, 7.645 ],\n",
       "       [0.405 , 6.565 ],\n",
       "       [0.77  , 6.395 ],\n",
       "       [0.4429, 6.812 ],\n",
       "       [0.74  , 5.854 ],\n",
       "       [0.411 , 7.148 ],\n",
       "       [0.437 , 7.185 ],\n",
       "       [0.493 , 6.415 ],\n",
       "       [0.74  , 5.935 ],\n",
       "       [0.409 , 5.885 ],\n",
       "       [0.547 , 5.731 ],\n",
       "       [0.409 , 5.594 ],\n",
       "       [0.77  , 6.112 ],\n",
       "       [0.507 , 7.358 ],\n",
       "       [0.429 , 6.49  ],\n",
       "       [0.524 , 6.377 ],\n",
       "       [0.464 , 6.442 ],\n",
       "       [0.52  , 6.405 ],\n",
       "       [0.464 , 6.538 ],\n",
       "       [0.437 , 5.874 ],\n",
       "       [0.544 , 6.122 ],\n",
       "       [0.52  , 6.229 ],\n",
       "       [0.437 , 6.009 ],\n",
       "       [0.538 , 6.495 ],\n",
       "       [0.472 , 6.849 ],\n",
       "       [0.532 , 5.762 ],\n",
       "       [0.871 , 4.903 ],\n",
       "       [0.52  , 6.127 ],\n",
       "       [0.713 , 6.749 ],\n",
       "       [0.55  , 5.888 ],\n",
       "       [0.671 , 6.545 ],\n",
       "       [0.605 , 6.319 ],\n",
       "       [0.713 , 6.513 ],\n",
       "       [0.453 , 6.456 ],\n",
       "       [0.614 , 6.103 ],\n",
       "       [0.547 , 5.913 ],\n",
       "       [0.713 , 6.376 ],\n",
       "       [0.403 , 7.135 ],\n",
       "       [0.431 , 6.487 ],\n",
       "       [0.584 , 5.565 ],\n",
       "       [0.437 , 6.286 ],\n",
       "       [0.713 , 5.936 ],\n",
       "       [0.671 , 6.968 ],\n",
       "       [0.431 , 6.957 ],\n",
       "       [0.52  , 5.836 ],\n",
       "       [0.442 , 6.014 ],\n",
       "       [0.74  , 6.341 ],\n",
       "       [0.693 , 5.349 ],\n",
       "       [0.489 , 6.405 ],\n",
       "       [0.647 , 7.327 ],\n",
       "       [0.647 , 7.203 ],\n",
       "       [0.489 , 6.326 ],\n",
       "       [0.437 , 6.14  ],\n",
       "       [0.449 , 6.389 ],\n",
       "       [0.679 , 5.896 ],\n",
       "       [0.544 , 5.705 ],\n",
       "       [0.518 , 6.54  ],\n",
       "       [0.538 , 5.813 ],\n",
       "       [0.4   , 6.871 ],\n",
       "       [0.493 , 5.708 ],\n",
       "       [0.74  , 6.152 ],\n",
       "       [0.77  , 6.212 ],\n",
       "       [0.51  , 6.546 ],\n",
       "       [0.453 , 5.966 ],\n",
       "       [0.484 , 6.696 ],\n",
       "       [0.405 , 6.209 ],\n",
       "       [0.442 , 5.898 ],\n",
       "       [0.411 , 5.884 ],\n",
       "       [0.449 , 6.63  ],\n",
       "       [0.671 , 6.38  ],\n",
       "       [0.415 , 6.162 ],\n",
       "       [0.515 , 5.895 ],\n",
       "       [0.659 , 5.608 ],\n",
       "       [0.507 , 6.164 ],\n",
       "       [0.504 , 7.412 ],\n",
       "       [0.464 , 5.92  ],\n",
       "       [0.538 , 6.674 ],\n",
       "       [0.583 , 6.312 ],\n",
       "       [0.693 , 5.531 ],\n",
       "       [0.532 , 6.242 ],\n",
       "       [0.489 , 5.412 ],\n",
       "       [0.426 , 6.167 ],\n",
       "       [0.469 , 6.421 ],\n",
       "       [0.426 , 6.302 ],\n",
       "       [0.464 , 6.211 ],\n",
       "       [0.581 , 6.004 ],\n",
       "       [0.401 , 6.8   ],\n",
       "       [0.538 , 5.935 ],\n",
       "       [0.524 , 5.889 ],\n",
       "       [0.597 , 5.757 ],\n",
       "       [0.713 , 6.317 ],\n",
       "       [0.538 , 6.072 ],\n",
       "       [0.41  , 5.888 ],\n",
       "       [0.713 , 6.436 ],\n",
       "       [0.605 , 6.066 ],\n",
       "       [0.624 , 6.326 ],\n",
       "       [0.524 , 6.004 ],\n",
       "       [0.693 , 6.471 ],\n",
       "       [0.464 , 6.24  ],\n",
       "       [0.538 , 5.834 ],\n",
       "       [0.584 , 6.003 ],\n",
       "       [0.413 , 5.663 ],\n",
       "       [0.584 , 5.837 ],\n",
       "       [0.624 , 6.151 ],\n",
       "       [0.581 , 5.879 ],\n",
       "       [0.871 , 5.709 ],\n",
       "       [0.544 , 6.567 ],\n",
       "       [0.7   , 6.051 ],\n",
       "       [0.538 , 6.047 ],\n",
       "       [0.77  , 6.127 ],\n",
       "       [0.4   , 7.041 ]])"
      ]
     },
     "execution_count": 54,
     "metadata": {},
     "output_type": "execute_result"
    }
   ],
   "source": [
    "x_train"
   ]
  },
  {
   "cell_type": "code",
   "execution_count": 55,
   "metadata": {},
   "outputs": [
    {
     "data": {
      "text/plain": [
       "array([[0.431 , 5.605 ],\n",
       "       [0.77  , 5.803 ],\n",
       "       [0.447 , 6.854 ],\n",
       "       [0.597 , 4.628 ],\n",
       "       [0.609 , 5.093 ],\n",
       "       [0.447 , 7.267 ],\n",
       "       [0.647 , 7.52  ],\n",
       "       [0.52  , 6.474 ],\n",
       "       [0.597 , 5.155 ],\n",
       "       [0.585 , 5.569 ],\n",
       "       [0.448 , 5.786 ],\n",
       "       [0.7   , 5.536 ],\n",
       "       [0.597 , 5.617 ],\n",
       "       [0.614 , 5.304 ],\n",
       "       [0.394 , 7.454 ],\n",
       "       [0.428 , 6.897 ],\n",
       "       [0.51  , 6.315 ],\n",
       "       [0.871 , 6.51  ],\n",
       "       [0.693 , 5.453 ],\n",
       "       [0.585 , 5.707 ],\n",
       "       [0.46  , 6.333 ],\n",
       "       [0.544 , 5.782 ],\n",
       "       [0.4   , 7.088 ],\n",
       "       [0.544 , 6.635 ],\n",
       "       [0.4429, 7.82  ],\n",
       "       [0.624 , 5.637 ],\n",
       "       [0.524 , 6.009 ],\n",
       "       [0.544 , 4.973 ],\n",
       "       [0.871 , 6.122 ],\n",
       "       [0.453 , 6.145 ],\n",
       "       [0.437 , 6.678 ],\n",
       "       [0.437 , 6.273 ],\n",
       "       [0.7   , 5.    ],\n",
       "       [0.538 , 5.713 ],\n",
       "       [0.4161, 7.853 ],\n",
       "       [0.433 , 6.982 ],\n",
       "       [0.458 , 6.43  ],\n",
       "       [0.437 , 6.127 ],\n",
       "       [0.447 , 6.758 ],\n",
       "       [0.581 , 5.856 ],\n",
       "       [0.659 , 4.138 ],\n",
       "       [0.624 , 6.372 ],\n",
       "       [0.679 , 6.193 ],\n",
       "       [0.428 , 7.024 ],\n",
       "       [0.544 , 6.382 ],\n",
       "       [0.493 , 6.431 ],\n",
       "       [0.668 , 4.906 ],\n",
       "       [0.718 , 6.411 ],\n",
       "       [0.544 , 6.266 ],\n",
       "       [0.693 , 6.404 ],\n",
       "       [0.624 , 6.454 ],\n",
       "       [0.655 , 6.209 ],\n",
       "       [0.389 , 6.453 ],\n",
       "       [0.614 , 6.484 ],\n",
       "       [0.573 , 6.12  ],\n",
       "       [0.489 , 5.96  ],\n",
       "       [0.693 , 5.747 ],\n",
       "       [0.507 , 6.086 ],\n",
       "       [0.7   , 5.277 ],\n",
       "       [0.532 , 6.75  ],\n",
       "       [0.581 , 5.613 ],\n",
       "       [0.428 , 6.606 ],\n",
       "       [0.544 , 6.023 ],\n",
       "       [0.718 , 4.963 ],\n",
       "       [0.74  , 6.629 ],\n",
       "       [0.647 , 7.014 ],\n",
       "       [0.585 , 5.39  ],\n",
       "       [0.585 , 5.67  ],\n",
       "       [0.413 , 5.936 ],\n",
       "       [0.464 , 6.249 ],\n",
       "       [0.4429, 6.968 ],\n",
       "       [0.575 , 7.47  ],\n",
       "       [0.538 , 5.813 ],\n",
       "       [0.77  , 5.362 ],\n",
       "       [0.871 , 5.404 ],\n",
       "       [0.693 , 4.519 ],\n",
       "       [0.713 , 5.976 ],\n",
       "       [0.631 , 3.863 ],\n",
       "       [0.538 , 5.99  ],\n",
       "       [0.718 , 3.561 ],\n",
       "       [0.624 , 5.757 ],\n",
       "       [0.584 , 6.833 ],\n",
       "       [0.713 , 6.525 ],\n",
       "       [0.74  , 6.406 ],\n",
       "       [0.609 , 5.454 ],\n",
       "       [0.713 , 6.728 ],\n",
       "       [0.442 , 7.241 ],\n",
       "       [0.538 , 5.599 ],\n",
       "       [0.445 , 6.163 ],\n",
       "       [0.524 , 6.012 ],\n",
       "       [0.538 , 5.701 ],\n",
       "       [0.493 , 6.312 ],\n",
       "       [0.392 , 6.108 ],\n",
       "       [0.614 , 6.98  ],\n",
       "       [0.609 , 5.983 ],\n",
       "       [0.871 , 5.186 ],\n",
       "       [0.74  , 5.818 ],\n",
       "       [0.431 , 5.593 ],\n",
       "       [0.544 , 6.113 ],\n",
       "       [0.431 , 8.259 ],\n",
       "       [0.647 , 5.56  ],\n",
       "       [0.437 , 6.739 ],\n",
       "       [0.437 , 6.556 ],\n",
       "       [0.401 , 6.604 ],\n",
       "       [0.624 , 6.458 ],\n",
       "       [0.7   , 4.368 ],\n",
       "       [0.52  , 6.195 ],\n",
       "       [0.693 , 5.683 ],\n",
       "       [0.713 , 6.301 ],\n",
       "       [0.437 , 6.549 ],\n",
       "       [0.871 , 5.597 ],\n",
       "       [0.74  , 6.251 ],\n",
       "       [0.52  , 6.781 ],\n",
       "       [0.538 , 5.95  ],\n",
       "       [0.445 , 7.82  ],\n",
       "       [0.614 , 6.229 ],\n",
       "       [0.409 , 5.878 ],\n",
       "       [0.504 , 5.981 ],\n",
       "       [0.679 , 6.434 ],\n",
       "       [0.713 , 6.081 ],\n",
       "       [0.524 , 5.631 ],\n",
       "       [0.679 , 5.957 ],\n",
       "       [0.403 , 6.975 ]])"
      ]
     },
     "execution_count": 55,
     "metadata": {},
     "output_type": "execute_result"
    }
   ],
   "source": [
    "x_test"
   ]
  },
  {
   "cell_type": "code",
   "execution_count": 56,
   "metadata": {
    "collapsed": true
   },
   "outputs": [],
   "source": [
    "from sklearn.linear_model import LinearRegression\n",
    "reg = LinearRegression()\n",
    "reg.fit(x_train,y_train)\n",
    "y_predict = reg.predict(x_test)"
   ]
  },
  {
   "cell_type": "markdown",
   "metadata": {},
   "source": [
    "###  MSE"
   ]
  },
  {
   "cell_type": "code",
   "execution_count": 57,
   "metadata": {
    "collapsed": true
   },
   "outputs": [],
   "source": [
    "mse_test = np.sum((y_predict-y_test)**2)/len(y_predict)"
   ]
  },
  {
   "cell_type": "code",
   "execution_count": 58,
   "metadata": {},
   "outputs": [
    {
     "data": {
      "text/plain": [
       "39.15389118110709"
      ]
     },
     "execution_count": 58,
     "metadata": {},
     "output_type": "execute_result"
    }
   ],
   "source": [
    "mse_test"
   ]
  },
  {
   "cell_type": "markdown",
   "metadata": {},
   "source": [
    "### rmse\n",
    "\n",
    "> 与源数据等量级的评价函数"
   ]
  },
  {
   "cell_type": "code",
   "execution_count": 59,
   "metadata": {},
   "outputs": [
    {
     "data": {
      "text/plain": [
       "6.257307023081662"
      ]
     },
     "execution_count": 59,
     "metadata": {},
     "output_type": "execute_result"
    }
   ],
   "source": [
    "from math import sqrt\n",
    "rmse_test = sqrt(mse_test)\n",
    "rmse_test"
   ]
  },
  {
   "cell_type": "markdown",
   "metadata": {},
   "source": [
    "### MAE"
   ]
  },
  {
   "cell_type": "code",
   "execution_count": 60,
   "metadata": {},
   "outputs": [
    {
     "data": {
      "text/plain": [
       "4.423303976230377"
      ]
     },
     "execution_count": 60,
     "metadata": {},
     "output_type": "execute_result"
    }
   ],
   "source": [
    "mae_test = np.sum(np.absolute(y_test-y_predict))/len(y_test)\n",
    "mae_test"
   ]
  },
  {
   "cell_type": "markdown",
   "metadata": {},
   "source": [
    "### R^2"
   ]
  },
  {
   "cell_type": "markdown",
   "metadata": {},
   "source": [
    "> MAE/RMSE的局限性在于难以评价同一模型在不同问题中的表现"
   ]
  },
  {
   "cell_type": "markdown",
   "metadata": {},
   "source": [
    "> R^2 = 1- SS_residual/SS_total\n",
    "\n",
    "SS_residual : Residual Sum of Squares\n",
    "\n",
    "SS_total  :  Total Sum of Squares"
   ]
  },
  {
   "cell_type": "markdown",
   "metadata": {},
   "source": [
    "> R^2 = 1- (y_predict-y_true).dot(y_predict-y_true)/(y_mean-y_true).dot(y_mean-y_true)"
   ]
  },
  {
   "cell_type": "markdown",
   "metadata": {},
   "source": [
    "> 分子描述的是使用预测的模型产生的错误，分母是使用Y的均值作为预测值的模型产生的错误(base_line model).R^2表示的是我们的模型对数据的拟合度。类似于另一个lift"
   ]
  },
  {
   "cell_type": "markdown",
   "metadata": {},
   "source": [
    ">\n",
    "\n",
    "R^2 <= 1  \n",
    "\n",
    "R^2 越大越好，当预测模型不犯错误时，R^2 = 1  \n",
    "\n",
    "当我们的模型等于基准模型时，R^2为0  \n",
    "\n",
    "如果R^2 < 0,说明我们的模型还不如基准模型。此时，很可能我们的数据没有线性关系"
   ]
  },
  {
   "cell_type": "markdown",
   "metadata": {},
   "source": [
    "> R^2 = 1- MSE(y^,y)/Var(y)"
   ]
  },
  {
   "cell_type": "code",
   "execution_count": 61,
   "metadata": {},
   "outputs": [
    {
     "data": {
      "text/plain": [
       "0.5014389495476113"
      ]
     },
     "execution_count": 61,
     "metadata": {},
     "output_type": "execute_result"
    }
   ],
   "source": [
    "from sklearn.metrics import r2_score\n",
    "\n",
    "r2_score(y_test,y_predict)"
   ]
  },
  {
   "cell_type": "markdown",
   "metadata": {},
   "source": [
    "## 多元线性回归"
   ]
  },
  {
   "cell_type": "markdown",
   "metadata": {},
   "source": [
    "y = b + a1*x1 + a2*x2 +......... + an*xn"
   ]
  },
  {
   "cell_type": "markdown",
   "metadata": {},
   "source": [
    "y^i = a0 + a1 *X1i +a2*X2i+ ...... + an*Xni"
   ]
  },
  {
   "cell_type": "markdown",
   "metadata": {},
   "source": [
    "求解思路：目标：使(y_predict-y_true).dot(y_predict-y_true) 尽可能的小"
   ]
  },
  {
   "cell_type": "markdown",
   "metadata": {},
   "source": [
    "目标： 找到a0 ..an使目标函数尽可能的小"
   ]
  },
  {
   "cell_type": "markdown",
   "metadata": {},
   "source": [
    "============================================================================\n",
    "a = (a0 ,a1,.......an)T  \n",
    "\n",
    "y^i = a0*X0i + a1 *X1i +a2*X2i+ ...... + an*Xni    X0i=1  \n",
    "\n",
    "Xi = (X0i,X1i,...........,Xni)  \n",
    "\n",
    "y^i = Xi * A\n",
    "\n",
    "Xb =  [1,  \n",
    "      X1,  \n",
    "      X2,  \n",
    "      X3 ,  \n",
    "      ...  \n",
    "      Xm]  \n",
    "      \n",
    " y^ = Xb*a\n",
    " \n",
    " 目标： 使（Y - Xb\\*a）T(Y-Xb\\*a)尽可能小"
   ]
  },
  {
   "cell_type": "markdown",
   "metadata": {},
   "source": [
    "这时，目标函数求导，得到：\n",
    "a = (XbT\\*Xb)^-1 \\* XbT\\*Y"
   ]
  },
  {
   "cell_type": "markdown",
   "metadata": {},
   "source": [
    "================================  \n",
    "\n",
    "这种求解方案的缺点： 时间复杂度高：O(n^3),最优是O(n^2.4)  \n",
    "优点：不需要做归一化处理\n"
   ]
  },
  {
   "cell_type": "markdown",
   "metadata": {},
   "source": [
    "#### scikit-learn中的线性回归"
   ]
  },
  {
   "cell_type": "code",
   "execution_count": 65,
   "metadata": {
    "collapsed": true
   },
   "outputs": [],
   "source": [
    "from sklearn.linear_model import LinearRegression\n",
    "\n",
    "lr = LinearRegression()\n",
    "X,y = boston.data,boston.target\n",
    "X_train,X_test,y_train,y_test = train_test_split(X,y,test_size=0.33,random_state=42)\n",
    "lr.fit(X_train,y_train)\n",
    "y_predict = lr.predict(X_test)\n"
   ]
  },
  {
   "cell_type": "code",
   "execution_count": null,
   "metadata": {
    "collapsed": true
   },
   "outputs": [],
   "source": []
  },
  {
   "cell_type": "code",
   "execution_count": 64,
   "metadata": {},
   "outputs": [
    {
     "data": {
      "text/plain": [
       "(339, 13)"
      ]
     },
     "execution_count": 64,
     "metadata": {},
     "output_type": "execute_result"
    }
   ],
   "source": [
    "X_train.shape"
   ]
  },
  {
   "cell_type": "code",
   "execution_count": 66,
   "metadata": {},
   "outputs": [
    {
     "data": {
      "text/plain": [
       "array([-1.28060398e-01,  3.77955693e-02,  5.86107797e-02,  3.24007007e+00,\n",
       "       -1.62222676e+01,  3.89352244e+00, -1.27879944e-02, -1.42326864e+00,\n",
       "        2.34513082e-01, -8.20261127e-03, -9.29950535e-01,  1.19151410e-02,\n",
       "       -5.48489997e-01])"
      ]
     },
     "execution_count": 66,
     "metadata": {},
     "output_type": "execute_result"
    }
   ],
   "source": [
    "lr.coef_"
   ]
  },
  {
   "cell_type": "code",
   "execution_count": 67,
   "metadata": {},
   "outputs": [
    {
     "data": {
      "text/plain": [
       "0.7258515818230054"
      ]
     },
     "execution_count": 67,
     "metadata": {},
     "output_type": "execute_result"
    }
   ],
   "source": [
    "lr.score(X_test,y_test)"
   ]
  },
  {
   "cell_type": "markdown",
   "metadata": {},
   "source": [
    "####  KNN 解决回归问题"
   ]
  },
  {
   "cell_type": "code",
   "execution_count": 69,
   "metadata": {},
   "outputs": [
    {
     "data": {
      "text/plain": [
       "0.5748334691810936"
      ]
     },
     "execution_count": 69,
     "metadata": {},
     "output_type": "execute_result"
    }
   ],
   "source": [
    "from sklearn.neighbors import KNeighborsRegressor\n",
    "\n",
    "knn_reg = KNeighborsRegressor()\n",
    "knn_reg.fit(X_train,y_train)\n",
    "knn_reg.score(X_test,y_test)\n"
   ]
  },
  {
   "cell_type": "code",
   "execution_count": null,
   "metadata": {
    "collapsed": true
   },
   "outputs": [],
   "source": []
  }
 ],
 "metadata": {
  "kernelspec": {
   "display_name": "Python 3",
   "language": "python",
   "name": "python3"
  },
  "language_info": {
   "codemirror_mode": {
    "name": "ipython",
    "version": 3
   },
   "file_extension": ".py",
   "mimetype": "text/x-python",
   "name": "python",
   "nbconvert_exporter": "python",
   "pygments_lexer": "ipython3",
   "version": "3.6.3"
  }
 },
 "nbformat": 4,
 "nbformat_minor": 2
}
