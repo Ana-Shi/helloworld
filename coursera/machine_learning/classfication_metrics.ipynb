{
 "cells": [
  {
   "cell_type": "markdown",
   "metadata": {},
   "source": [
    "# 1.  confusion matrix ,   precision,   recall"
   ]
  },
  {
   "cell_type": "code",
   "execution_count": 1,
   "metadata": {},
   "outputs": [],
   "source": [
    "import numpy as np\n",
    "import pandas as pd\n",
    "from sklearn import datasets"
   ]
  },
  {
   "cell_type": "code",
   "execution_count": 2,
   "metadata": {},
   "outputs": [],
   "source": [
    "digits = datasets.load_digits()\n",
    "X = digits.data\n",
    "y = digits.target.copy()"
   ]
  },
  {
   "cell_type": "code",
   "execution_count": 3,
   "metadata": {},
   "outputs": [],
   "source": [
    "y [digits.target==9] = 1\n",
    "y[digits.target!=9] = 0"
   ]
  },
  {
   "cell_type": "code",
   "execution_count": 4,
   "metadata": {},
   "outputs": [],
   "source": [
    "from sklearn.model_selection import train_test_split\n",
    "X_train,X_test,y_train,y_test = train_test_split(X,y,random_state = 6)"
   ]
  },
  {
   "cell_type": "code",
   "execution_count": 5,
   "metadata": {},
   "outputs": [
    {
     "data": {
      "text/plain": [
       "0.9844444444444445"
      ]
     },
     "execution_count": 5,
     "metadata": {},
     "output_type": "execute_result"
    }
   ],
   "source": [
    "from sklearn.linear_model import LogisticRegression\n",
    "log_reg = LogisticRegression()\n",
    "log_reg.fit(X_train,y_train)\n",
    "log_reg.score(X_test,y_test)"
   ]
  },
  {
   "cell_type": "code",
   "execution_count": 6,
   "metadata": {},
   "outputs": [],
   "source": [
    "y_log_predict = log_reg.predict(X_test)"
   ]
  },
  {
   "cell_type": "code",
   "execution_count": 7,
   "metadata": {},
   "outputs": [],
   "source": [
    "# True Negnative\n",
    "def TN(y_true,y_predict):\n",
    "    return np.sum((y_true==0)&(y_predict==0))\n",
    "# True Positive \n",
    "def TP(y_true,y_predict):\n",
    "    return np.sum((y_true==1)&(y_predict==1))\n",
    "#False Positive\n",
    "def FP(y_true,y_predict):\n",
    "    return np.sum((y_true==0)&(y_predict==1))\n",
    "# False Negtive \n",
    "def FN(y_true,y_predict):\n",
    "    return np.sum((y_true==1)&(y_predict==0))"
   ]
  },
  {
   "cell_type": "code",
   "execution_count": 8,
   "metadata": {},
   "outputs": [
    {
     "data": {
      "text/plain": [
       "411"
      ]
     },
     "execution_count": 8,
     "metadata": {},
     "output_type": "execute_result"
    }
   ],
   "source": [
    "TN(y_test,y_log_predict)"
   ]
  },
  {
   "cell_type": "code",
   "execution_count": 9,
   "metadata": {},
   "outputs": [],
   "source": [
    "\"\"\"\n",
    "predict   0   1\n",
    "Real  0  TN   FP\n",
    "      1  FN   TP\n",
    "\"\"\"\n",
    "def confusion_martix(y_true,y_predict):\n",
    "    return np.array([[TN(y_true,y_predict),FP(y_true,y_predict)],[FN(y_true,y_predict),TP(y_true,y_predict)]])"
   ]
  },
  {
   "cell_type": "code",
   "execution_count": 10,
   "metadata": {},
   "outputs": [
    {
     "data": {
      "text/plain": [
       "array([[411,   4],\n",
       "       [  3,  32]])"
      ]
     },
     "execution_count": 10,
     "metadata": {},
     "output_type": "execute_result"
    }
   ],
   "source": [
    "confusion_martix(y_test,y_log_predict)"
   ]
  },
  {
   "cell_type": "code",
   "execution_count": 11,
   "metadata": {},
   "outputs": [],
   "source": [
    "#  The ratio of true positive to  positive preticted\n",
    "def precision_score(y_true,y_predict):\n",
    "    return TP(y_true,y_predict)/(TP(y_true,y_predict)+FP(y_true,y_predict))\n",
    "    "
   ]
  },
  {
   "cell_type": "code",
   "execution_count": 12,
   "metadata": {},
   "outputs": [
    {
     "data": {
      "text/plain": [
       "0.8888888888888888"
      ]
     },
     "execution_count": 12,
     "metadata": {},
     "output_type": "execute_result"
    }
   ],
   "source": [
    "precision_score(y_test,y_log_predict)"
   ]
  },
  {
   "cell_type": "code",
   "execution_count": 13,
   "metadata": {},
   "outputs": [],
   "source": [
    "# The ratio of true positive to real positive\n",
    "def recall_score(y_true,y_predict):\n",
    "    try:\n",
    "        return TP(y_true,y_predict)/(TP(y_true,y_predict)+FN(y_true,y_predict))\n",
    "    except:\n",
    "        return 0.0\n"
   ]
  },
  {
   "cell_type": "code",
   "execution_count": 14,
   "metadata": {},
   "outputs": [
    {
     "data": {
      "text/plain": [
       "0.9142857142857143"
      ]
     },
     "execution_count": 14,
     "metadata": {},
     "output_type": "execute_result"
    }
   ],
   "source": [
    "recall_score(y_test,y_log_predict)"
   ]
  },
  {
   "cell_type": "markdown",
   "metadata": {},
   "source": [
    "# confusion matrix ,   precision,   recall in scikit-learn "
   ]
  },
  {
   "cell_type": "code",
   "execution_count": 15,
   "metadata": {},
   "outputs": [
    {
     "data": {
      "text/plain": [
       "array([[411,   4],\n",
       "       [  3,  32]])"
      ]
     },
     "execution_count": 15,
     "metadata": {},
     "output_type": "execute_result"
    }
   ],
   "source": [
    "from sklearn.metrics import confusion_matrix\n",
    "confusion_martix(y_test,y_log_predict)"
   ]
  },
  {
   "cell_type": "code",
   "execution_count": 16,
   "metadata": {},
   "outputs": [
    {
     "data": {
      "text/plain": [
       "0.8888888888888888"
      ]
     },
     "execution_count": 16,
     "metadata": {},
     "output_type": "execute_result"
    }
   ],
   "source": [
    "from sklearn.metrics import precision_score\n",
    "precision_score(y_test,y_log_predict)"
   ]
  },
  {
   "cell_type": "code",
   "execution_count": 17,
   "metadata": {},
   "outputs": [
    {
     "data": {
      "text/plain": [
       "0.9142857142857143"
      ]
     },
     "execution_count": 17,
     "metadata": {},
     "output_type": "execute_result"
    }
   ],
   "source": [
    "from sklearn.metrics import recall_score\n",
    "recall_score(y_test,y_log_predict)"
   ]
  },
  {
   "cell_type": "markdown",
   "metadata": {},
   "source": [
    "# Understanding of precision and recall"
   ]
  },
  {
   "cell_type": "markdown",
   "metadata": {},
   "source": [
    "> We can use the precision to evaluate a stock price forecast model. The precision indicates how many of the results predicted as rising are correct."
   ]
  },
  {
   "cell_type": "markdown",
   "metadata": {},
   "source": [
    "> When establishing a model to diagnose illness, we can use recall to evaluate the quality of the model. Because we want to predict more people who are really sick as much as possible. Therefore, the higher the recall score, the better the model."
   ]
  },
  {
   "cell_type": "code",
   "execution_count": 18,
   "metadata": {},
   "outputs": [],
   "source": [
    "#问题： 预测股票是涨还是跌，实用精准率，做的决策股票回升里有多少是对的，比例越高越好\n",
    "\n",
    "#问题：病人诊断，使用召回率，病人的预测覆盖率，不漏掉任何病人"
   ]
  },
  {
   "cell_type": "markdown",
   "metadata": {},
   "source": [
    "# 2. F1 score: balance of recall and precision\n",
    "# F1 score: 同时顾及召回率和精准率，调和平均值"
   ]
  },
  {
   "cell_type": "markdown",
   "metadata": {},
   "source": [
    "## 1/F1 = 1/2*(1/precision + 1/recall)"
   ]
  },
  {
   "cell_type": "markdown",
   "metadata": {},
   "source": [
    "> If one of them is high,the other one is low, F1 is low. Only when they are both high, F1 score can be high"
   ]
  },
  {
   "cell_type": "code",
   "execution_count": 19,
   "metadata": {},
   "outputs": [],
   "source": [
    "# 如果二者极度不平衡，F1也会十分低。 只有同时高，F1score才会高"
   ]
  },
  {
   "cell_type": "markdown",
   "metadata": {},
   "source": [
    "## F1 = 2*precision*recall/(precision+recall)   (0,1]"
   ]
  },
  {
   "cell_type": "markdown",
   "metadata": {},
   "source": [
    "##  F1 score in python "
   ]
  },
  {
   "cell_type": "code",
   "execution_count": 20,
   "metadata": {},
   "outputs": [],
   "source": [
    "def f1_score(precision,recall):\n",
    "    try:\n",
    "        return 2*precision*recall/(precision+recall)\n",
    "    except:\n",
    "        return 0.0"
   ]
  },
  {
   "cell_type": "code",
   "execution_count": 21,
   "metadata": {},
   "outputs": [
    {
     "data": {
      "text/plain": [
       "0.9014084507042254"
      ]
     },
     "execution_count": 21,
     "metadata": {},
     "output_type": "execute_result"
    }
   ],
   "source": [
    "f1_score(precision_score(y_test,y_log_predict),recall_score(y_test,y_log_predict))"
   ]
  },
  {
   "cell_type": "markdown",
   "metadata": {},
   "source": [
    "##  f1 score in scikit-learn "
   ]
  },
  {
   "cell_type": "code",
   "execution_count": 22,
   "metadata": {},
   "outputs": [
    {
     "data": {
      "text/plain": [
       "0.9014084507042254"
      ]
     },
     "execution_count": 22,
     "metadata": {},
     "output_type": "execute_result"
    }
   ],
   "source": [
    "from sklearn.metrics import f1_score\n",
    "f1_score(y_test,y_log_predict)"
   ]
  },
  {
   "cell_type": "markdown",
   "metadata": {},
   "source": [
    "# blance between precision-recall"
   ]
  },
  {
   "cell_type": "markdown",
   "metadata": {},
   "source": [
    "> In logistic regression, the formula:  1/(1+ e**-(M*X)),threshold is eta.   \n",
    "Actually, when M*X >= eta1, y* = 1, M*X < eta1, y* = 0. eta1 = -log(1/eta -1)"
   ]
  },
  {
   "cell_type": "markdown",
   "metadata": {},
   "source": [
    "> when eta1 increases, recall decreases and precision  increases.\n",
    "\n",
    ">when eta1 decreases, recall increases , precision will increase."
   ]
  },
  {
   "cell_type": "markdown",
   "metadata": {},
   "source": [
    "> when eta1 is very very high,  recall will tend to 0 , precision will tend to 1."
   ]
  },
  {
   "cell_type": "code",
   "execution_count": 23,
   "metadata": {},
   "outputs": [],
   "source": [
    "# 阈值增大，召回率降低，精准率增大。阈值减小，召回率增加，精准率江少"
   ]
  },
  {
   "cell_type": "code",
   "execution_count": 41,
   "metadata": {},
   "outputs": [],
   "source": [
    "descision_score = log_reg.predict_proba(X_test)[:,1]"
   ]
  },
  {
   "cell_type": "code",
   "execution_count": 42,
   "metadata": {},
   "outputs": [
    {
     "data": {
      "text/plain": [
       "0.9999999924813404"
      ]
     },
     "execution_count": 42,
     "metadata": {},
     "output_type": "execute_result"
    }
   ],
   "source": [
    "np.max(descision_score)"
   ]
  },
  {
   "cell_type": "code",
   "execution_count": 43,
   "metadata": {},
   "outputs": [
    {
     "data": {
      "text/plain": [
       "9.146425458320899e-26"
      ]
     },
     "execution_count": 43,
     "metadata": {},
     "output_type": "execute_result"
    }
   ],
   "source": [
    "np.min(descision_score)"
   ]
  },
  {
   "cell_type": "code",
   "execution_count": 44,
   "metadata": {},
   "outputs": [
    {
     "data": {
      "text/plain": [
       "array([0, 1, 0, 0, 0, 0, 0, 0, 0, 0, 0, 0, 0, 0, 0, 0, 0, 0, 0, 0, 0, 0,\n",
       "       0, 0, 0, 0, 0, 0, 0, 0, 0, 0, 0, 0, 0, 0, 0, 0, 0, 0, 0, 0, 0, 0,\n",
       "       0, 0, 0, 0, 0, 0, 0, 0, 0, 0, 0, 0, 0, 0, 0, 0, 0, 0, 0, 0, 0, 0,\n",
       "       0, 0, 0, 1, 0, 0, 0, 0, 0, 0, 0, 0, 0, 0, 0, 0, 0, 0, 0, 0, 0, 0,\n",
       "       0, 0, 1, 1, 0, 0, 0, 0, 0, 0, 0, 0, 0, 0, 1, 0, 0, 0, 0, 0, 0, 0,\n",
       "       0, 0, 0, 0, 0, 0, 0, 0, 0, 0, 0, 0, 0, 0, 0, 0, 0, 0, 0, 0, 0, 1,\n",
       "       0, 0, 1, 0, 1, 0, 1, 0, 0, 0, 0, 0, 0, 0, 0, 1, 0, 0, 0, 0, 0, 0,\n",
       "       0, 0, 0, 0, 0, 0, 0, 0, 0, 1, 0, 0, 0, 0, 0, 0, 0, 0, 0, 0, 0, 0,\n",
       "       0, 0, 0, 0, 0, 0, 0, 0, 1, 1, 0, 0, 0, 0, 0, 0, 0, 1, 0, 0, 0, 0,\n",
       "       0, 0, 0, 0, 0, 0, 0, 0, 0, 1, 0, 0, 0, 0, 0, 0, 0, 0, 0, 0, 1, 0,\n",
       "       0, 0, 0, 0, 0, 0, 0, 0, 0, 0, 0, 0, 0, 0, 0, 0, 1, 0, 0, 0, 0, 0,\n",
       "       0, 0, 0, 0, 0, 0, 1, 0, 0, 0, 0, 0, 0, 0, 0, 0, 1, 0, 0, 0, 0, 1,\n",
       "       0, 1, 0, 0, 0, 0, 0, 0, 0, 0, 0, 1, 0, 0, 0, 0, 0, 0, 0, 0, 1, 0,\n",
       "       0, 0, 0, 1, 0, 0, 0, 0, 0, 0, 0, 0, 0, 0, 0, 0, 0, 0, 0, 0, 0, 0,\n",
       "       0, 0, 0, 1, 0, 0, 0, 0, 0, 0, 0, 0, 0, 0, 0, 0, 0, 0, 1, 0, 0, 1,\n",
       "       0, 0, 0, 0, 0, 0, 0, 0, 0, 0, 0, 0, 0, 0, 0, 1, 0, 0, 1, 0, 0, 0,\n",
       "       0, 0, 0, 0, 0, 0, 0, 0, 0, 0, 0, 0, 0, 0, 0, 0, 0, 0, 0, 0, 0, 0,\n",
       "       0, 0, 0, 0, 0, 0, 0, 0, 0, 0, 0, 0, 0, 0, 0, 0, 0, 0, 0, 0, 0, 1,\n",
       "       1, 0, 0, 0, 0, 0, 0, 0, 0, 0, 0, 0, 0, 0, 0, 0, 0, 0, 1, 0, 0, 0,\n",
       "       0, 0, 0, 1, 1, 0, 0, 1, 0, 0, 0, 0, 0, 0, 0, 0, 0, 0, 0, 0, 0, 0,\n",
       "       0, 0, 0, 0, 0, 0, 0, 0, 0, 0])"
      ]
     },
     "execution_count": 44,
     "metadata": {},
     "output_type": "execute_result"
    }
   ],
   "source": [
    "y_test"
   ]
  },
  {
   "cell_type": "code",
   "execution_count": 45,
   "metadata": {},
   "outputs": [
    {
     "data": {
      "text/plain": [
       "array([3.03792140e-04, 9.98048596e-01, 7.97471259e-12, 2.34627998e-14,\n",
       "       6.14715089e-11, 1.60595318e-05, 2.72853199e-06, 6.72803319e-08,\n",
       "       1.42993145e-17, 2.71426087e-13, 9.24144951e-01, 1.82725413e-17,\n",
       "       5.93743069e-19, 6.11152129e-14, 4.67950456e-06, 3.96922063e-06,\n",
       "       1.80685790e-05, 9.70984823e-09, 3.63049101e-11, 2.27686636e-09,\n",
       "       3.37834284e-11, 4.58266470e-13, 8.99870605e-13, 1.43242750e-10,\n",
       "       8.02375071e-07, 5.70445425e-20, 4.28032111e-11, 1.56329275e-12,\n",
       "       2.10467464e-06, 1.63567542e-10, 9.01171260e-13, 1.70044759e-12,\n",
       "       2.79701821e-07, 1.98551217e-03, 1.16367170e-05, 1.73692154e-22,\n",
       "       9.01328033e-19, 2.05863957e-14, 4.75525614e-14, 1.74829767e-04,\n",
       "       2.41799224e-05, 2.73445824e-22, 3.02594820e-13, 3.99848489e-09,\n",
       "       2.33098241e-08, 6.98429690e-09, 5.55193068e-18, 1.40847770e-01,\n",
       "       2.64680447e-15, 1.01040040e-18, 1.21502068e-19, 8.78974579e-14,\n",
       "       3.27424551e-17, 1.03731112e-14, 5.94260522e-18, 1.08361170e-17,\n",
       "       7.61045949e-01, 7.18210062e-15, 1.95292443e-07, 2.80827506e-14,\n",
       "       1.32705878e-03, 1.06781074e-09, 5.18710584e-23, 3.81528988e-07,\n",
       "       3.44670390e-24, 1.78409266e-20, 1.67474379e-07, 2.49684770e-12,\n",
       "       2.44869187e-11, 9.98853834e-01, 5.76414811e-09, 4.29525487e-12,\n",
       "       9.39337989e-19, 4.48450508e-10, 7.42253519e-09, 8.83776216e-06,\n",
       "       2.90969031e-07, 5.97056975e-06, 2.74719818e-09, 4.83236282e-14,\n",
       "       2.48675752e-12, 4.95249517e-10, 2.99501565e-03, 9.21909096e-08,\n",
       "       1.20048054e-10, 1.60632199e-10, 9.74758283e-16, 8.38430135e-07,\n",
       "       5.13475124e-07, 3.02560326e-10, 9.99998128e-01, 9.19275909e-01,\n",
       "       2.20862044e-18, 9.78235062e-01, 5.71244454e-10, 2.76421029e-08,\n",
       "       4.99497279e-24, 2.56061783e-06, 1.71169326e-21, 9.04780553e-18,\n",
       "       1.09557296e-09, 2.23961131e-04, 2.26376591e-03, 2.81838648e-12,\n",
       "       1.04229866e-09, 1.19677927e-21, 2.63965019e-04, 2.27259233e-09,\n",
       "       1.40931471e-19, 8.56972474e-13, 3.89939179e-08, 1.25337875e-14,\n",
       "       4.12013062e-08, 1.06888258e-06, 1.74823880e-06, 2.13603397e-24,\n",
       "       3.47625440e-02, 7.26412020e-13, 1.99612334e-15, 2.46732356e-06,\n",
       "       1.52556124e-14, 1.14379273e-25, 5.54024542e-06, 5.17240628e-08,\n",
       "       2.77466492e-04, 1.23123274e-13, 4.29421287e-08, 5.45879278e-11,\n",
       "       5.42709527e-08, 1.24735353e-09, 7.93284307e-18, 9.49605150e-01,\n",
       "       4.05159601e-17, 3.37672472e-11, 9.99756816e-01, 4.26922227e-16,\n",
       "       9.15983381e-10, 1.87916076e-13, 8.52789347e-01, 1.77337407e-15,\n",
       "       1.70132406e-08, 7.22833954e-20, 4.30855788e-15, 6.89999641e-13,\n",
       "       1.34243134e-15, 8.19502793e-13, 1.38907619e-06, 9.99113198e-01,\n",
       "       5.49965597e-06, 4.69793438e-05, 2.07489010e-15, 8.90255917e-07,\n",
       "       3.25988718e-08, 1.79559974e-05, 4.29259162e-08, 6.65968307e-08,\n",
       "       1.27121902e-13, 6.77861359e-16, 3.58608793e-14, 1.87277068e-11,\n",
       "       2.02373244e-07, 1.32462179e-12, 5.36288129e-21, 9.99999992e-01,\n",
       "       6.07870538e-09, 1.46358810e-08, 1.91363573e-13, 9.14447001e-02,\n",
       "       3.58521229e-05, 1.47498491e-17, 6.88519431e-15, 3.67854810e-09,\n",
       "       9.25971619e-05, 1.04811539e-09, 1.55918608e-01, 7.51521819e-07,\n",
       "       1.43087860e-16, 2.74322184e-11, 6.08912417e-21, 3.75105762e-10,\n",
       "       1.46919573e-07, 2.85219596e-12, 6.85184401e-07, 2.31331398e-02,\n",
       "       9.94635627e-01, 9.82228818e-01, 2.90054703e-24, 8.34181579e-13,\n",
       "       3.50823940e-09, 2.79833028e-04, 8.49500341e-07, 5.31961087e-08,\n",
       "       3.78628343e-14, 9.95353658e-01, 6.76189445e-08, 3.89174615e-23,\n",
       "       2.22108706e-09, 5.14867755e-14, 1.76640410e-06, 1.87622401e-08,\n",
       "       2.91769819e-20, 1.07806702e-10, 8.16496171e-10, 5.78970293e-09,\n",
       "       1.94993450e-06, 4.11567317e-10, 1.70374059e-09, 9.99999951e-01,\n",
       "       1.29856157e-09, 6.06924652e-11, 1.49267806e-09, 1.73551769e-01,\n",
       "       1.24749563e-12, 3.56459152e-05, 1.62283625e-10, 1.22880816e-02,\n",
       "       4.47925458e-08, 4.97383466e-08, 9.99999958e-01, 3.46717784e-02,\n",
       "       2.11176653e-10, 7.54736331e-20, 1.49067328e-11, 3.69417153e-04,\n",
       "       8.19319684e-15, 6.48041718e-10, 2.15173965e-15, 1.37636345e-19,\n",
       "       1.52303976e-04, 5.45885603e-05, 3.06746901e-06, 1.23716525e-16,\n",
       "       3.52733123e-19, 4.48418877e-05, 6.15691446e-13, 3.55429006e-13,\n",
       "       9.97084639e-01, 5.13324854e-07, 8.97395478e-06, 3.79533700e-17,\n",
       "       1.47229637e-09, 7.36096761e-23, 1.20061066e-08, 9.53902037e-05,\n",
       "       2.15704508e-15, 5.74543694e-03, 1.46469765e-07, 4.65357309e-11,\n",
       "       9.99920090e-01, 5.38928957e-13, 8.64126503e-13, 2.58877518e-20,\n",
       "       2.32592899e-12, 1.29192574e-25, 2.69348315e-03, 4.83341251e-20,\n",
       "       2.29262115e-10, 3.60052674e-08, 9.99276677e-01, 2.24081252e-19,\n",
       "       1.09964935e-06, 1.13397690e-05, 1.22707955e-10, 9.99997855e-01,\n",
       "       8.19162874e-10, 9.95616718e-01, 1.02752256e-07, 3.79517993e-11,\n",
       "       8.39771737e-09, 1.17654835e-07, 7.67874244e-18, 3.67717804e-12,\n",
       "       1.20327832e-07, 4.68567058e-08, 1.01027434e-06, 9.40330839e-01,\n",
       "       4.48928421e-14, 1.13937419e-06, 9.69602621e-10, 3.71272057e-10,\n",
       "       6.74377500e-19, 3.38757172e-10, 5.13284071e-15, 4.34408948e-09,\n",
       "       9.99782705e-01, 1.17574447e-09, 5.28467888e-08, 7.29101864e-05,\n",
       "       4.02164976e-04, 9.92877467e-01, 1.39476318e-07, 2.94097962e-02,\n",
       "       2.77969867e-03, 3.04195933e-14, 2.45541182e-06, 2.53590171e-13,\n",
       "       1.08745931e-04, 2.90654621e-04, 4.87899924e-14, 1.67069435e-07,\n",
       "       6.95351483e-07, 5.53923410e-07, 1.25689145e-09, 1.73652885e-08,\n",
       "       5.81176535e-15, 2.85215293e-16, 1.29783966e-20, 1.20427948e-18,\n",
       "       2.05313105e-13, 2.75922991e-10, 5.22484997e-08, 9.99995048e-01,\n",
       "       2.31504543e-13, 4.49010996e-11, 7.62911463e-03, 2.83150121e-12,\n",
       "       1.33874556e-01, 2.24321372e-13, 1.74982274e-13, 1.34173284e-15,\n",
       "       1.67308317e-05, 6.51148058e-16, 2.69881920e-18, 1.13950429e-21,\n",
       "       4.06771582e-05, 2.11498345e-11, 9.99996624e-01, 3.20119360e-15,\n",
       "       9.53443443e-06, 9.82429126e-01, 8.45549176e-05, 6.15137848e-21,\n",
       "       1.36047718e-12, 3.74472364e-20, 1.07173030e-07, 5.42286602e-07,\n",
       "       5.91390191e-09, 2.10839923e-05, 5.04985814e-15, 4.14218331e-08,\n",
       "       1.07052638e-06, 3.52171883e-13, 5.26562179e-07, 6.33759426e-06,\n",
       "       4.28247721e-08, 9.99995316e-01, 2.49685561e-05, 3.89132990e-05,\n",
       "       9.99717642e-01, 3.65464842e-17, 1.54757350e-17, 9.14642546e-26,\n",
       "       2.17294331e-01, 5.58704196e-10, 1.16986665e-11, 7.86695643e-15,\n",
       "       3.35251754e-07, 9.28341954e-07, 9.13131526e-05, 5.43073820e-17,\n",
       "       7.06792259e-06, 1.99602220e-14, 2.09056705e-08, 1.08292284e-07,\n",
       "       1.02947467e-17, 3.01530653e-06, 2.16415088e-01, 2.21793138e-11,\n",
       "       3.05067222e-14, 2.49880929e-08, 1.06730413e-08, 4.20071763e-08,\n",
       "       1.13053167e-19, 9.45687419e-07, 1.89470121e-13, 4.77486938e-01,\n",
       "       6.74684613e-06, 4.56802451e-07, 7.24442677e-09, 3.31542964e-20,\n",
       "       3.67727188e-11, 2.21518860e-19, 1.30499532e-15, 3.97317659e-05,\n",
       "       1.96257985e-03, 6.35575868e-16, 5.51551898e-07, 6.28560833e-13,\n",
       "       1.11888028e-04, 4.34537310e-12, 5.09991996e-07, 1.71128340e-23,\n",
       "       2.81371317e-03, 7.95259096e-11, 2.82937918e-03, 9.99671393e-01,\n",
       "       9.99713022e-01, 5.91805503e-21, 7.90838985e-07, 2.36882551e-07,\n",
       "       2.66578544e-07, 7.27297070e-21, 9.10321463e-18, 3.70299405e-13,\n",
       "       5.76596907e-18, 8.95103176e-08, 4.02354235e-11, 3.95540283e-20,\n",
       "       2.50598350e-06, 6.61949014e-06, 1.02517896e-05, 1.45236047e-05,\n",
       "       1.25088644e-12, 4.24553399e-06, 9.99928571e-01, 4.82946083e-05,\n",
       "       1.12476632e-11, 9.70004166e-01, 3.37026822e-20, 2.78394829e-14,\n",
       "       7.62612923e-08, 9.98766025e-01, 1.52554585e-03, 3.51062196e-10,\n",
       "       2.35731342e-07, 9.99999933e-01, 3.14660747e-12, 1.22322600e-07,\n",
       "       8.65030798e-20, 1.21566453e-15, 2.02316610e-19, 1.01385731e-21,\n",
       "       7.01130040e-20, 4.35142232e-13, 9.65647192e-14, 4.14238893e-16,\n",
       "       1.58464246e-09, 1.33137104e-23, 1.18096998e-14, 2.68119914e-04,\n",
       "       1.11471441e-05, 3.70890630e-12, 5.40880095e-08, 1.07660360e-09,\n",
       "       2.46609150e-13, 1.15300776e-07, 1.62665545e-06, 2.70072066e-11,\n",
       "       1.58845240e-06, 2.76233110e-05])"
      ]
     },
     "execution_count": 45,
     "metadata": {},
     "output_type": "execute_result"
    }
   ],
   "source": [
    "descision_score"
   ]
  },
  {
   "cell_type": "code",
   "execution_count": 46,
   "metadata": {},
   "outputs": [],
   "source": [
    "y_predict_2 = np.array(descision_score>=0.5,dtype='int')"
   ]
  },
  {
   "cell_type": "code",
   "execution_count": 47,
   "metadata": {},
   "outputs": [
    {
     "data": {
      "text/plain": [
       "array([[411,   4],\n",
       "       [  3,  32]])"
      ]
     },
     "execution_count": 47,
     "metadata": {},
     "output_type": "execute_result"
    }
   ],
   "source": [
    "confusion_martix(y_test,y_predict_2)"
   ]
  },
  {
   "cell_type": "code",
   "execution_count": 48,
   "metadata": {},
   "outputs": [
    {
     "data": {
      "text/plain": [
       "0.9142857142857143"
      ]
     },
     "execution_count": 48,
     "metadata": {},
     "output_type": "execute_result"
    }
   ],
   "source": [
    "recall_score(y_test,y_predict_2)"
   ]
  },
  {
   "cell_type": "code",
   "execution_count": 49,
   "metadata": {},
   "outputs": [
    {
     "data": {
      "text/plain": [
       "0.8888888888888888"
      ]
     },
     "execution_count": 49,
     "metadata": {},
     "output_type": "execute_result"
    }
   ],
   "source": [
    "precision_score(y_test,y_predict_2)"
   ]
  },
  {
   "cell_type": "markdown",
   "metadata": {},
   "source": [
    "# 3. Precision_score & Recall_score curve"
   ]
  },
  {
   "cell_type": "markdown",
   "metadata": {},
   "source": [
    "> When the threshold between maxmize and minmize value of desicion, we calculate the recall score and the precision scall."
   ]
  },
  {
   "cell_type": "code",
   "execution_count": 50,
   "metadata": {},
   "outputs": [],
   "source": [
    "import  matplotlib.pyplot as plt\n",
    "thresholds = np.arange(np.min(descision_score),np.max(descision_score),0.1)\n",
    "precisions = []\n",
    "recalls = []\n",
    "for thre in thresholds:\n",
    "    y_predict = np.array(descision_score>=thre,dtype='int')\n",
    "    precisions.append(precision_score(y_test,y_predict))\n",
    "    recalls.append(recall_score(y_test,y_predict))"
   ]
  },
  {
   "cell_type": "code",
   "execution_count": 51,
   "metadata": {
    "scrolled": true
   },
   "outputs": [
    {
     "data": {
      "image/png": "[encoded data removed]",
      "text/plain": [
       "<matplotlib.figure.Figure at 0x23f4f612208>"
      ]
     },
     "metadata": {},
     "output_type": "display_data"
    }
   ],
   "source": [
    "plt.plot(thresholds,precisions,label = 'precisions')\n",
    "plt.plot(thresholds,recalls,label = 'recalls')\n",
    "plt.legend()\n",
    "plt.show()"
   ]
  },
  {
   "cell_type": "markdown",
   "metadata": {},
   "source": [
    "> The thresold of the crossover point maybe the best threshold ."
   ]
  },
  {
   "cell_type": "code",
   "execution_count": 63,
   "metadata": {
    "scrolled": true
   },
   "outputs": [
    {
     "data": {
      "image/png": "[encoded data removed]",
      "text/plain": [
       "<matplotlib.figure.Figure at 0x23f500cfe80>"
      ]
     },
     "metadata": {},
     "output_type": "display_data"
    }
   ],
   "source": [
    "plt.plot(precisions,recalls)\n",
    "plt.xlabel('precisions')\n",
    "plt.ylabel('recalls')\n",
    "plt.axis([0,1.1,0,1])\n",
    "plt.show()"
   ]
  },
  {
   "cell_type": "markdown",
   "metadata": {},
   "source": [
    "> The thresold on the sharp drop point is the best position for balance.  \n",
    ">If the recall can stay high before the sharp drop, that's when the thresold is high ,TP is still high, it means the model is good.\n",
    "> So the sharper the drop , the better the model.  \n",
    "\n"
   ]
  },
  {
   "cell_type": "code",
   "execution_count": 64,
   "metadata": {},
   "outputs": [],
   "source": [
    "## 急剧下降的点是平衡的最好位置"
   ]
  },
  {
   "cell_type": "markdown",
   "metadata": {},
   "source": [
    "##  precision_recall curve in  scikit-learn "
   ]
  },
  {
   "cell_type": "code",
   "execution_count": 65,
   "metadata": {},
   "outputs": [],
   "source": [
    "from sklearn.metrics import precision_recall_curve\n",
    "precisions,recalls,thres = precision_recall_curve(y_test,descision_score)"
   ]
  },
  {
   "cell_type": "code",
   "execution_count": 66,
   "metadata": {},
   "outputs": [
    {
     "data": {
      "text/plain": [
       "[<matplotlib.lines.Line2D at 0x23f503937b8>]"
      ]
     },
     "execution_count": 66,
     "metadata": {},
     "output_type": "execute_result"
    },
    {
     "data": {
      "image/png": "[encoded data removed]",
      "text/plain": [
       "<matplotlib.figure.Figure at 0x23f5017a828>"
      ]
     },
     "metadata": {},
     "output_type": "display_data"
    }
   ],
   "source": [
    "plt.plot(precisions,recalls)"
   ]
  },
  {
   "cell_type": "code",
   "execution_count": 67,
   "metadata": {},
   "outputs": [],
   "source": [
    "# 曲线下的面积越大模型越好"
   ]
  },
  {
   "cell_type": "markdown",
   "metadata": {},
   "source": [
    "# 4.  ROC curve and AUC\n",
    "> ROC describes the relationship between TPR and FPR."
   ]
  },
  {
   "cell_type": "markdown",
   "metadata": {},
   "source": [
    "## TPR = recall   \n",
    "## FPR = FP/(TN+FP)  = 1- N_recall   \n",
    "\n",
    "> When the thresold increase, TPR decreases，N_recall increases, FPR decreases \n",
    "\n",
    "> when the thresold is high enough, TP is very low and FP will be very low , recall and  FPR will be very low . \n",
    "\n",
    ">when the thresold is low enough, TP is very high and FP will be very high , recall and  FPR will be very high . "
   ]
  },
  {
   "cell_type": "code",
   "execution_count": 68,
   "metadata": {},
   "outputs": [],
   "source": [
    "def TPR(y_test,y_predict):\n",
    "    return recall_score(y_test,y_predict)\n",
    "\n",
    "def FPR(y_test,y_predict):\n",
    "    fp = FP(y_test,y_predict)\n",
    "    tn = TN(y_test,y_predict)\n",
    "    fp = FP(y_test,y_predict)\n",
    "    try:\n",
    "        return fp/(tn+fp)\n",
    "    except:\n",
    "        return 0.0"
   ]
  },
  {
   "cell_type": "code",
   "execution_count": 69,
   "metadata": {},
   "outputs": [],
   "source": [
    "fprs = []\n",
    "tprs = []\n",
    "for thre in thresholds:\n",
    "    y_predict = np.array(descision_score>=thre,dtype='int')\n",
    "    fprs.append(FPR(y_test,y_predict))\n",
    "    tprs.append(TPR(y_test,y_predict))"
   ]
  },
  {
   "cell_type": "code",
   "execution_count": 72,
   "metadata": {},
   "outputs": [
    {
     "data": {
      "image/png": "[encoded data removed]",
      "text/plain": [
       "<matplotlib.figure.Figure at 0x23f5046a1d0>"
      ]
     },
     "metadata": {},
     "output_type": "display_data"
    }
   ],
   "source": [
    "plt.plot(thresholds,fprs,label='FPR')\n",
    "plt.plot(thresholds,tprs,label='TPR')\n",
    "plt.legend()\n",
    "plt.xlabel('thresold')\n",
    "plt.ylabel('FPR & TPR')\n",
    "plt.axis([0,1.1,0,1])\n",
    "plt.show()"
   ]
  },
  {
   "cell_type": "code",
   "execution_count": 73,
   "metadata": {
    "scrolled": true
   },
   "outputs": [
    {
     "data": {
      "image/png": "[encoded data removed]",
      "text/plain": [
       "<matplotlib.figure.Figure at 0x23f504abbe0>"
      ]
     },
     "metadata": {},
     "output_type": "display_data"
    }
   ],
   "source": [
    "plt.plot(fprs,tprs)\n",
    "plt.xlabel('FPR')\n",
    "plt.ylabel('TPR')\n",
    "plt.axis([0,1.1,0,1])\n",
    "plt.title('ROC curve')\n",
    "plt.show()"
   ]
  },
  {
   "cell_type": "markdown",
   "metadata": {},
   "source": [
    "> This means when the thresold is very low, the TPR will equals to 1, FPR will also equals to 1. When the thresold is very high, the TPR equals to 0, the FPR equals to 0. But before the thresold became the maxmize, the FPR is very low, the TPR is still high, that's means even the thresold is high, we can predict enough patients, which indicates this is a very good model. The prediction score of True positive peoplev are all very high."
   ]
  },
  {
   "cell_type": "markdown",
   "metadata": {},
   "source": [
    "## ROC curve  in scikit-learn "
   ]
  },
  {
   "cell_type": "code",
   "execution_count": 74,
   "metadata": {},
   "outputs": [
    {
     "data": {
      "image/png": "[encoded data removed]",
      "text/plain": [
       "<matplotlib.figure.Figure at 0x23f503dd0b8>"
      ]
     },
     "metadata": {},
     "output_type": "display_data"
    }
   ],
   "source": [
    "from sklearn.metrics import roc_curve\n",
    "fprs,tprs,thresholds = roc_curve(y_test,descision_score)\n",
    "plt.plot(fprs,tprs)\n",
    "plt.show()"
   ]
  },
  {
   "cell_type": "code",
   "execution_count": 75,
   "metadata": {},
   "outputs": [],
   "source": [
    "#面积越大越好，FPR越小，错误预测为1的概率越小，召回率越高，这样表明模型越好\n"
   ]
  },
  {
   "cell_type": "markdown",
   "metadata": {},
   "source": [
    "## AUC : Area under ROC curve \n",
    "> The maxmize value of ROC is 1, the large AUC, the better the model.  \n",
    "> When FPR is small and TPR became very large , it means the model can predict the true positive correctly."
   ]
  },
  {
   "cell_type": "markdown",
   "metadata": {},
   "source": [
    "## ROC curve  in scikit-learn "
   ]
  },
  {
   "cell_type": "code",
   "execution_count": 76,
   "metadata": {},
   "outputs": [
    {
     "data": {
      "text/plain": [
       "0.9818932874354561"
      ]
     },
     "execution_count": 76,
     "metadata": {},
     "output_type": "execute_result"
    }
   ],
   "source": [
    "from sklearn.metrics import roc_auc_score\n",
    "roc_auc_score(y_test,descision_score)"
   ]
  },
  {
   "cell_type": "markdown",
   "metadata": {},
   "source": [
    "# 5. Lift  and Lift Chart"
   ]
  },
  {
   "cell_type": "markdown",
   "metadata": {},
   "source": [
    "## Lift"
   ]
  },
  {
   "cell_type": "markdown",
   "metadata": {},
   "source": [
    "> pi1 = (TP+FN)/(TP+FP+TN+FN)\n",
    "\n",
    "> Lift = precision/pi1"
   ]
  },
  {
   "cell_type": "markdown",
   "metadata": {},
   "source": [
    "> Lift measures how much better the predictive power of the model is compared with the model without using it. Such as we send mails to 1000 people and we expect 200 will send reply back. This The ratio of positive cases is 0.2. If use one model, the model predict 100 will response and send the mail to this 100 people, a fews days later, there are 70 people really reponse to us. Then the precision is 0.7. The lift is 3.5. That's means the reply rate was improved 250%."
   ]
  },
  {
   "cell_type": "markdown",
   "metadata": {},
   "source": [
    "## Lift using Python"
   ]
  },
  {
   "cell_type": "code",
   "execution_count": 77,
   "metadata": {},
   "outputs": [],
   "source": [
    "def pi1(y_test,y_predict):\n",
    "    try:\n",
    "        return (TP(y_test,y_predict)+FN(y_test,y_predict))/(TP(y_test,y_predict)+FN(y_test,y_predict)+TN(y_test,y_predict)+FP(y_test,y_predict))\n",
    "    except:\n",
    "        return 0.0\n",
    "    \n",
    "def lift_score(y_test,y_predict):\n",
    "    try:\n",
    "        return precision_score(y_test,y_predict)/pi1(y_test,y_predict)\n",
    "    except:\n",
    "        return 0.0"
   ]
  },
  {
   "cell_type": "code",
   "execution_count": 78,
   "metadata": {},
   "outputs": [],
   "source": [
    "lifts = []\n",
    "depth = []\n",
    "for thre in thresholds:\n",
    "    y_predict = np.array(descision_score>=thre,dtype='int')\n",
    "    lifts.append(lift_score(y_test,y_predict))"
   ]
  },
  {
   "cell_type": "code",
   "execution_count": 79,
   "metadata": {},
   "outputs": [
    {
     "data": {
      "image/png": "[encoded data removed]",
      "text/plain": [
       "<matplotlib.figure.Figure at 0x23f505ad240>"
      ]
     },
     "metadata": {},
     "output_type": "display_data"
    }
   ],
   "source": [
    "plt.plot(thresholds,lifts)\n",
    "plt.xlabel('thresholds')\n",
    "plt.ylabel('lifts')\n",
    "plt.title('Lift Chart')\n",
    "plt.show()"
   ]
  },
  {
   "cell_type": "markdown",
   "metadata": {},
   "source": [
    "## Lift Chart"
   ]
  },
  {
   "cell_type": "markdown",
   "metadata": {},
   "source": [
    "> depth = (TP+FP)/(TP+FP+TN+FN)  \n",
    "\n",
    "> Proportion of predicted positive cases"
   ]
  },
  {
   "cell_type": "code",
   "execution_count": 80,
   "metadata": {},
   "outputs": [],
   "source": [
    "def depth(y_test,y_predict):\n",
    "    try:\n",
    "        return (TP(y_test,y_predict)+FP(y_test,y_predict))/(TP(y_test,y_predict)+FP(y_test,y_predict)+TN(y_test,y_predict)+FN(y_test,y_predict))\n",
    "    except:\n",
    "        return 0.0"
   ]
  },
  {
   "cell_type": "code",
   "execution_count": 81,
   "metadata": {},
   "outputs": [],
   "source": [
    "thresholds = np.linspace(np.min(descision_score),np.max(descision_score),10)\n",
    "lifts = []\n",
    "depths = []\n",
    "for thre in thresholds:\n",
    "    y_predict = np.array(descision_score>=thre,dtype='int')\n",
    "    lifts.append(lift_score(y_test,y_predict))\n",
    "    depths.append(depth(y_test,y_predict))"
   ]
  },
  {
   "cell_type": "code",
   "execution_count": 82,
   "metadata": {},
   "outputs": [
    {
     "data": {
      "image/png": "[encoded data removed]",
      "text/plain": [
       "<matplotlib.figure.Figure at 0x23f504a6908>"
      ]
     },
     "metadata": {},
     "output_type": "display_data"
    }
   ],
   "source": [
    "plt.plot(depths,lifts)\n",
    "plt.xlabel('depth')\n",
    "plt.ylabel('lift')\n",
    "\n",
    "plt.text(0.3,12,'high <---threshold---> low', ha='left', wrap=True,fontsize=15,color='red')\n",
    "plt.title('Lift Chart')\n",
    "plt.show()"
   ]
  },
  {
   "cell_type": "markdown",
   "metadata": {},
   "source": [
    "> As the threshold decreases, more customers will be classified as positive, that is, the depth (the proportion predicted to be positive) increases. When the threshold is set large enough, only a small part of the observed values will be normalized, but this small part (a handful) must be the most positive set of observed values (in the case of database marketing above, this part of the population responds most actively to the mailing questionnaire), so under this depth, the corresponding lift value Maximum.\n",
    "\n",
    ">Similarly, when the threshold is set sufficiently small, almost all observations are classified as positive (depth is almost 1) - when the effect of classification is similar to that of random classfication, the corresponding lift value is close to 1.\n",
    "\n",
    "> Lift chart can be understood as: We sorted all 1000 people according to the predict score.If we send mail to the first 10% people the lift is 12.8.If we send mail to the first 50% people, lift is 2.8. If we send mail to all 1000 people, the lift is 1, which means the model doesn't work."
   ]
  },
  {
   "cell_type": "markdown",
   "metadata": {},
   "source": [
    "# Gain  and Gain Chart"
   ]
  },
  {
   "cell_type": "markdown",
   "metadata": {},
   "source": [
    "## Gain\n",
    "> Gain = PV+ = lift*pi1 = TP/(TP+FN)"
   ]
  },
  {
   "cell_type": "code",
   "execution_count": 83,
   "metadata": {},
   "outputs": [],
   "source": [
    "def gain_score(y_test,y_predict):\n",
    "     try:\n",
    "        return precision_score(y_test,y_predict)\n",
    "     except:\n",
    "        return 0.0"
   ]
  },
  {
   "cell_type": "markdown",
   "metadata": {},
   "source": [
    "## Gain Chart "
   ]
  },
  {
   "cell_type": "code",
   "execution_count": 84,
   "metadata": {},
   "outputs": [],
   "source": [
    "thresholds = np.linspace(np.min(descision_score),np.max(descision_score),10)\n",
    "gains = []\n",
    "depths = []\n",
    "for thre in thresholds:\n",
    "    y_predict = np.array(descision_score>=thre,dtype='int')\n",
    "    gains.append(gain_score(y_test,y_predict))\n",
    "    depths.append(depth(y_test,y_predict))"
   ]
  },
  {
   "cell_type": "code",
   "execution_count": 85,
   "metadata": {
    "scrolled": false
   },
   "outputs": [
    {
     "data": {
      "image/png": "[encoded data removed]",
      "text/plain": [
       "<matplotlib.figure.Figure at 0x23f505fa2b0>"
      ]
     },
     "metadata": {},
     "output_type": "display_data"
    }
   ],
   "source": [
    "plt.plot(depths,gains)\n",
    "plt.xlabel('depth')\n",
    "plt.ylabel('lift')\n",
    "plt.text(0.3,0.8,'high <---threshold---> low', ha='left', wrap=True,fontsize=15,color='red')\n",
    "plt.title('Gain Chart')\n",
    "plt.show()"
   ]
  },
  {
   "cell_type": "markdown",
   "metadata": {},
   "source": [
    "# 6. KS  and KS curve"
   ]
  },
  {
   "cell_type": "markdown",
   "metadata": {},
   "source": [
    "> KS = TPR - FPR"
   ]
  },
  {
   "cell_type": "code",
   "execution_count": 86,
   "metadata": {},
   "outputs": [],
   "source": [
    "def KS_score(y_test,y_predict):\n",
    "    try:\n",
    "        return TPR(y_test,y_predict)-FPR(y_test,y_predict)\n",
    "    except:\n",
    "        return 0.0"
   ]
  },
  {
   "cell_type": "code",
   "execution_count": 87,
   "metadata": {},
   "outputs": [],
   "source": [
    "thresholds = np.linspace(np.min(descision_score),np.max(descision_score),10)\n",
    "KSs = []\n",
    "TPRs = []\n",
    "FPRs = []\n",
    "for thre in thresholds:\n",
    "    y_predict = np.array(descision_score>=thre,dtype='int')\n",
    "    KSs.append(KS_score(y_test,y_predict))\n",
    "    FPRs.append(FPR(y_test,y_predict))\n",
    "    TPRs.append(TPR(y_test,y_predict))\n",
    "    "
   ]
  },
  {
   "cell_type": "code",
   "execution_count": 88,
   "metadata": {
    "scrolled": false
   },
   "outputs": [
    {
     "data": {
      "image/png": "[encoded data removed]",
      "text/plain": [
       "<matplotlib.figure.Figure at 0x23f506622e8>"
      ]
     },
     "metadata": {},
     "output_type": "display_data"
    }
   ],
   "source": [
    "plt.plot(thresholds,KSs,label='KS')\n",
    "plt.plot(thresholds,TPRs,label='TPR')\n",
    "plt.plot(thresholds,FPRs,label='FPR')\n",
    "plt.xlabel('thresholds')\n",
    "plt.ylabel('value')\n",
    "plt.title('KS Curve')\n",
    "plt.legend()\n",
    "plt.show()"
   ]
  },
  {
   "cell_type": "markdown",
   "metadata": {},
   "source": [
    "> On the point which has the maxmize KS value, the best has a high TPR and a low FPR. Thos means that the model using this threshod will predict patients correctly and won't predict normal people as patients."
   ]
  },
  {
   "cell_type": "markdown",
   "metadata": {},
   "source": [
    "# 7. deciles"
   ]
  },
  {
   "cell_type": "markdown",
   "metadata": {},
   "source": [
    "> Deciles is to sort a group of data from small to large (or from large to small), then divide all data into 10 equal parts with 9 points. The values corresponding to the positions of these nine points are called deciles, which are recorded as D1, D2,... D9 indicates that 10% of the data falls below D1 and 20% of the data falls below D2. 90% of the data falls below D9."
   ]
  },
  {
   "cell_type": "code",
   "execution_count": 199,
   "metadata": {},
   "outputs": [],
   "source": [
    "def deciles_score(y_score,decile=5):\n",
    "    result = pd.DataFrame(data={'score':y_score})\n",
    "    s_e = pd.DataFrame()\n",
    "    s_e['decile_score'] =result.groupby(pd.qcut(result.score, decile))['score'].mean().values\n",
    "    s_e = s_e.sort_index(ascending=False).reset_index().drop(columns = ['index'])\n",
    "    return s_e"
   ]
  },
  {
   "cell_type": "code",
   "execution_count": 200,
   "metadata": {},
   "outputs": [
    {
     "name": "stdout",
     "output_type": "stream",
     "text": [
      "   decile_score\n",
      "0  4.112216e-01\n",
      "1  3.447357e-06\n",
      "2  1.127888e-08\n",
      "3  4.275470e-12\n",
      "4  2.520751e-16\n"
     ]
    }
   ],
   "source": [
    "print(deciles_score(descision_score,5))"
   ]
  },
  {
   "cell_type": "markdown",
   "metadata": {},
   "source": [
    "# 8. Score VS  Event plot"
   ]
  },
  {
   "cell_type": "code",
   "execution_count": 201,
   "metadata": {},
   "outputs": [],
   "source": [
    "def Score_EventScore(y_test,y_score,decile=5):\n",
    "    result = pd.DataFrame(data={'score':y_score,'event':y_test})\n",
    "    s_e = pd.DataFrame()\n",
    "    s_e['decile_score'] =result.groupby(pd.qcut(result.score, decile))['score'].mean().values\n",
    "    s_e['event_score'] =result.groupby(pd.qcut(result.score, decile))['event'].mean().values\n",
    "    # s_e = s_e.sort_index(by='decile_score',ascending=False)\n",
    "    s_e = s_e.sort_index(ascending=False).reset_index().drop(columns = ['index'])\n",
    "    return s_e"
   ]
  },
  {
   "cell_type": "code",
   "execution_count": 202,
   "metadata": {},
   "outputs": [],
   "source": [
    "def plot_Score_EventScore(s_e):\n",
    "    plt.plot(s_e['decile_score'],marker = 'o',color='red',label='decile_score')\n",
    "    plt.plot(s_e['event_score'],marker = 'o',color='blue',label='event_score')\n",
    "    plt.legend()\n",
    "    plt.show()"
   ]
  },
  {
   "cell_type": "code",
   "execution_count": 203,
   "metadata": {},
   "outputs": [
    {
     "name": "stdout",
     "output_type": "stream",
     "text": [
      "   decile_score  event_score\n",
      "0  4.112216e-01     0.066667\n",
      "1  3.447357e-06     0.088889\n",
      "2  1.127888e-08     0.111111\n",
      "3  4.275470e-12     0.100000\n",
      "4  2.520751e-16     0.022222\n"
     ]
    }
   ],
   "source": [
    "s_e = Score_EventScore(y_test,descision_score)\n",
    "print(s_e)"
   ]
  },
  {
   "cell_type": "code",
   "execution_count": 204,
   "metadata": {},
   "outputs": [
    {
     "data": {
      "image/png": "[encoded data removed]",
      "text/plain": [
       "<matplotlib.figure.Figure at 0x23f52e0ac18>"
      ]
     },
     "metadata": {},
     "output_type": "display_data"
    }
   ],
   "source": [
    "plot_Score_EventScore(s_e)"
   ]
  },
  {
   "cell_type": "markdown",
   "metadata": {},
   "source": [
    "# 多分类问题中的混淆矩阵"
   ]
  },
  {
   "cell_type": "code",
   "execution_count": 96,
   "metadata": {},
   "outputs": [],
   "source": [
    "digits = datasets.load_digits()\n",
    "X = digits.data\n",
    "y = digits.target.copy()\n",
    "from sklearn.model_selection import train_test_split\n",
    "X_train,X_test,y_train,y_test = train_test_split(X,y,random_state = 6)\n",
    "from sklearn.linear_model import LogisticRegression\n",
    "log_reg = LogisticRegression()\n",
    "log_reg.fit(X_train,y_train)\n",
    "log_reg.score(X_test,y_test)\n",
    "y_log_predict = log_reg.predict(X_test)"
   ]
  },
  {
   "cell_type": "code",
   "execution_count": 97,
   "metadata": {},
   "outputs": [
    {
     "data": {
      "text/plain": [
       "0.9533333333333334"
      ]
     },
     "execution_count": 97,
     "metadata": {},
     "output_type": "execute_result"
    }
   ],
   "source": [
    "from sklearn.metrics import precision_score\n",
    "precision_score(y_test,y_log_predict,average='micro')"
   ]
  },
  {
   "cell_type": "code",
   "execution_count": 100,
   "metadata": {},
   "outputs": [
    {
     "data": {
      "text/plain": [
       "array([[52,  0],\n",
       "       [ 0, 38]])"
      ]
     },
     "execution_count": 100,
     "metadata": {},
     "output_type": "execute_result"
    }
   ],
   "source": [
    "confusion_martix(y_test,y_log_predict)"
   ]
  },
  {
   "cell_type": "code",
   "execution_count": 103,
   "metadata": {},
   "outputs": [
    {
     "data": {
      "text/plain": [
       "array([1, 9, 6, 0, 8, 5, 7, 8, 4, 2, 7, 6, 2, 6, 0, 7, 4, 3, 1, 3, 7, 2,\n",
       "       2, 2, 0, 6, 2, 6, 5, 0, 0, 2, 7, 3, 5, 6, 6, 7, 6, 5, 7, 6, 2, 8,\n",
       "       2, 7, 4, 7, 6, 6, 6, 1, 6, 6, 6, 4, 1, 2, 0, 2, 4, 3, 4, 0, 4, 7,\n",
       "       5, 4, 1, 9, 5, 0, 4, 1, 0, 0, 5, 8, 3, 0, 0, 2, 8, 0, 8, 1, 4, 0,\n",
       "       8, 2, 9, 9, 1, 1, 5, 8, 4, 5, 4, 6, 0, 4, 9, 1, 1, 4, 7, 1, 6, 7,\n",
       "       5, 4, 5, 0, 5, 4, 3, 6, 4, 0, 1, 4, 5, 5, 3, 1, 2, 1, 1, 0, 7, 9,\n",
       "       1, 4, 9, 6, 9, 4, 9, 8, 7, 4, 4, 6, 6, 2, 3, 9, 3, 7, 3, 5, 3, 8,\n",
       "       5, 1, 2, 1, 1, 8, 8, 2, 6, 9, 0, 5, 3, 3, 5, 7, 7, 1, 4, 8, 3, 0,\n",
       "       4, 7, 6, 5, 0, 1, 2, 4, 9, 9, 4, 2, 2, 8, 5, 3, 2, 9, 0, 4, 8, 2,\n",
       "       3, 4, 4, 0, 5, 7, 0, 2, 3, 9, 2, 1, 8, 5, 7, 8, 7, 3, 0, 2, 9, 7,\n",
       "       7, 7, 0, 0, 2, 4, 2, 4, 8, 7, 0, 6, 2, 0, 2, 2, 9, 2, 5, 7, 5, 6,\n",
       "       0, 5, 6, 5, 3, 0, 9, 6, 2, 5, 2, 4, 3, 7, 4, 1, 9, 2, 3, 3, 1, 9,\n",
       "       8, 9, 3, 3, 5, 2, 4, 1, 8, 2, 5, 9, 6, 0, 7, 4, 4, 8, 2, 0, 9, 8,\n",
       "       5, 3, 7, 9, 0, 5, 7, 2, 1, 6, 5, 8, 1, 3, 1, 0, 8, 3, 6, 4, 6, 4,\n",
       "       1, 5, 0, 9, 7, 7, 4, 8, 3, 8, 3, 6, 3, 7, 6, 4, 5, 1, 9, 1, 5, 9,\n",
       "       0, 1, 1, 7, 0, 5, 3, 0, 6, 8, 8, 6, 0, 4, 2, 9, 2, 5, 9, 1, 6, 4,\n",
       "       2, 1, 2, 4, 3, 8, 1, 6, 8, 6, 2, 8, 7, 0, 1, 7, 5, 0, 8, 3, 4, 3,\n",
       "       2, 3, 3, 0, 7, 4, 0, 6, 2, 5, 3, 8, 1, 3, 5, 0, 0, 4, 5, 7, 8, 9,\n",
       "       9, 6, 5, 5, 0, 4, 2, 0, 6, 8, 8, 7, 0, 5, 5, 5, 2, 0, 9, 5, 6, 1,\n",
       "       4, 2, 8, 9, 9, 7, 5, 9, 2, 7, 7, 6, 1, 6, 6, 1, 3, 4, 5, 4, 2, 5,\n",
       "       3, 7, 8, 0, 2, 5, 7, 4, 8, 0])"
      ]
     },
     "execution_count": 103,
     "metadata": {},
     "output_type": "execute_result"
    }
   ],
   "source": [
    "y_test"
   ]
  },
  {
   "cell_type": "code",
   "execution_count": 104,
   "metadata": {},
   "outputs": [],
   "source": [
    "from sklearn.metrics import confusion_matrix as cm\n",
    "cfm = cm(y_test,y_log_predict)"
   ]
  },
  {
   "cell_type": "code",
   "execution_count": null,
   "metadata": {},
   "outputs": [],
   "source": []
  },
  {
   "cell_type": "code",
   "execution_count": 105,
   "metadata": {},
   "outputs": [
    {
     "data": {
      "image/png": "[encoded data removed]",
      "text/plain": [
       "<matplotlib.figure.Figure at 0x15561c300f0>"
      ]
     },
     "metadata": {},
     "output_type": "display_data"
    }
   ],
   "source": [
    "plt.matshow(cfm,cmap = plt.cm.gray)\n",
    "plt.show()"
   ]
  },
  {
   "cell_type": "code",
   "execution_count": 106,
   "metadata": {},
   "outputs": [],
   "source": [
    "row_sums = np.sum(cfm,axis=1)\n",
    "error_matrics = cfm/row_sums\n",
    "np.fill_diagonal(error_matrics,0)"
   ]
  },
  {
   "cell_type": "code",
   "execution_count": 107,
   "metadata": {},
   "outputs": [
    {
     "data": {
      "text/plain": [
       "array([[0.        , 0.        , 0.        , 0.        , 0.        ,\n",
       "        0.        , 0.        , 0.        , 0.        , 0.        ],\n",
       "       [0.        , 0.        , 0.        , 0.        , 0.        ,\n",
       "        0.        , 0.02222222, 0.        , 0.05128205, 0.02857143],\n",
       "       [0.        , 0.        , 0.        , 0.025     , 0.        ,\n",
       "        0.        , 0.        , 0.        , 0.        , 0.        ],\n",
       "       [0.        , 0.        , 0.03921569, 0.        , 0.        ,\n",
       "        0.        , 0.        , 0.        , 0.        , 0.05714286],\n",
       "       [0.        , 0.02380952, 0.        , 0.        , 0.        ,\n",
       "        0.        , 0.        , 0.        , 0.        , 0.        ],\n",
       "       [0.        , 0.        , 0.        , 0.025     , 0.        ,\n",
       "        0.        , 0.        , 0.        , 0.02564103, 0.        ],\n",
       "       [0.        , 0.        , 0.        , 0.        , 0.        ,\n",
       "        0.        , 0.        , 0.        , 0.02564103, 0.        ],\n",
       "       [0.        , 0.        , 0.        , 0.        , 0.        ,\n",
       "        0.        , 0.        , 0.        , 0.02564103, 0.        ],\n",
       "       [0.        , 0.02380952, 0.01960784, 0.        , 0.        ,\n",
       "        0.        , 0.        , 0.02272727, 0.        , 0.        ],\n",
       "       [0.        , 0.02380952, 0.        , 0.025     , 0.        ,\n",
       "        0.01960784, 0.        , 0.        , 0.02564103, 0.        ]])"
      ]
     },
     "execution_count": 107,
     "metadata": {},
     "output_type": "execute_result"
    }
   ],
   "source": [
    "error_matrics"
   ]
  },
  {
   "cell_type": "code",
   "execution_count": 108,
   "metadata": {},
   "outputs": [
    {
     "data": {
      "image/png": "[encoded data removed]",
      "text/plain": [
       "<matplotlib.figure.Figure at 0x1556199b358>"
      ]
     },
     "metadata": {},
     "output_type": "display_data"
    }
   ],
   "source": [
    "plt.matshow(error_matrics,cmap = plt.cm.gray)\n",
    "plt.show()"
   ]
  },
  {
   "cell_type": "code",
   "execution_count": null,
   "metadata": {},
   "outputs": [],
   "source": []
  }
 ],
 "metadata": {
  "kernelspec": {
   "display_name": "Python 3",
   "language": "python",
   "name": "python3"
  },
  "language_info": {
   "codemirror_mode": {
    "name": "ipython",
    "version": 3
   },
   "file_extension": ".py",
   "mimetype": "text/x-python",
   "name": "python",
   "nbconvert_exporter": "python",
   "pygments_lexer": "ipython3",
   "version": "3.6.4"
  }
 },
 "nbformat": 4,
 "nbformat_minor": 2
}
